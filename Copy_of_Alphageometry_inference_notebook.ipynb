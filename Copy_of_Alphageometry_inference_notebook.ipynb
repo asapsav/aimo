{
  "metadata": {
    "kernelspec": {
      "display_name": "Python 3",
      "name": "python3"
    },
    "language_info": {
      "name": "python",
      "version": "3.10.13",
      "mimetype": "text/x-python",
      "codemirror_mode": {
        "name": "ipython",
        "version": 3
      },
      "pygments_lexer": "ipython3",
      "nbconvert_exporter": "python",
      "file_extension": ".py"
    },
    "kaggle": {
      "accelerator": "nvidiaTeslaT4",
      "dataSources": [
        {
          "sourceId": 73231,
          "databundleVersionId": 8133715,
          "sourceType": "competition"
        }
      ],
      "dockerImageVersionId": 30674,
      "isInternetEnabled": true,
      "language": "python",
      "sourceType": "notebook",
      "isGpuEnabled": true
    },
    "colab": {
      "provenance": [],
      "machine_shape": "hm",
      "gpuType": "T4"
    },
    "accelerator": "GPU"
  },
  "nbformat_minor": 0,
  "nbformat": 4,
  "cells": [
    {
      "cell_type": "code",
      "source": [
        "!git clone https://github.com/google-deepmind/alphageometry.git"
      ],
      "metadata": {
        "execution": {
          "iopub.status.busy": "2024-04-04T08:17:23.249139Z",
          "iopub.execute_input": "2024-04-04T08:17:23.249639Z",
          "iopub.status.idle": "2024-04-04T08:17:25.594576Z",
          "shell.execute_reply.started": "2024-04-04T08:17:23.249599Z",
          "shell.execute_reply": "2024-04-04T08:17:25.593424Z"
        },
        "trusted": true,
        "id": "b-IK3o1p1s26",
        "outputId": "38572e82-af8a-41e2-8333-6ca61d69adf7",
        "colab": {
          "base_uri": "https://localhost:8080/"
        }
      },
      "execution_count": null,
      "outputs": [
        {
          "output_type": "stream",
          "name": "stdout",
          "text": [
            "Cloning into 'alphageometry'...\n",
            "remote: Enumerating objects: 89, done.\u001b[K\n",
            "remote: Counting objects: 100% (64/64), done.\u001b[K\n",
            "remote: Compressing objects: 100% (45/45), done.\u001b[K\n",
            "remote: Total 89 (delta 29), reused 22 (delta 19), pack-reused 25\u001b[K\n",
            "Receiving objects: 100% (89/89), 1.19 MiB | 4.54 MiB/s, done.\n",
            "Resolving deltas: 100% (33/33), done.\n"
          ]
        }
      ]
    },
    {
      "cell_type": "code",
      "source": [
        "\n",
        "%cd alphageometry"
      ],
      "metadata": {
        "execution": {
          "iopub.status.busy": "2024-04-04T08:17:26.482418Z",
          "iopub.execute_input": "2024-04-04T08:17:26.482851Z",
          "iopub.status.idle": "2024-04-04T08:17:26.491936Z",
          "shell.execute_reply.started": "2024-04-04T08:17:26.482815Z",
          "shell.execute_reply": "2024-04-04T08:17:26.490698Z"
        },
        "trusted": true,
        "id": "6HQK-Is91s27",
        "outputId": "1feacd63-f79d-4854-ec9e-2af8e69ac301",
        "colab": {
          "base_uri": "https://localhost:8080/"
        }
      },
      "execution_count": null,
      "outputs": [
        {
          "output_type": "stream",
          "name": "stdout",
          "text": [
            "/content/alphageometry\n"
          ]
        }
      ]
    },
    {
      "cell_type": "code",
      "source": [
        "!virtualenv -p python3.10 .\n",
        "!source ./bin/activate"
      ],
      "metadata": {
        "execution": {
          "iopub.status.busy": "2024-04-04T08:17:27.948786Z",
          "iopub.execute_input": "2024-04-04T08:17:27.949194Z",
          "iopub.status.idle": "2024-04-04T08:17:31.998853Z",
          "shell.execute_reply.started": "2024-04-04T08:17:27.949161Z",
          "shell.execute_reply": "2024-04-04T08:17:31.997601Z"
        },
        "trusted": true,
        "id": "VKmp_MVd1s27",
        "outputId": "61b1ba78-478f-4770-d110-0c91fef5c883",
        "colab": {
          "base_uri": "https://localhost:8080/"
        }
      },
      "execution_count": null,
      "outputs": [
        {
          "output_type": "stream",
          "name": "stdout",
          "text": [
            "/bin/bash: line 1: virtualenv: command not found\n",
            "/bin/bash: line 1: ./bin/activate: No such file or directory\n"
          ]
        }
      ]
    },
    {
      "cell_type": "code",
      "source": [
        "!pip install tensorflow==2.13.0 numpy==1.23.5 scipy==1.10.0 matplotlib==3.7.0 gdown==4.7.1 jax==0.4.6 jaxlib==0.4.6 flax==0.5.3 gin-config==0.5.0 gin==0.1.6 t5==0.9.4 sentencepiece==0.1.99 absl-py==1.4.0 clu==0.0.7 optax==0.1.7 seqio==0.0.18 tensorflow-datasets==4.9.3\n"
      ],
      "metadata": {
        "execution": {
          "iopub.status.busy": "2024-04-04T08:20:31.890233Z",
          "iopub.execute_input": "2024-04-04T08:20:31.891052Z",
          "iopub.status.idle": "2024-04-04T08:26:36.324276Z",
          "shell.execute_reply.started": "2024-04-04T08:20:31.891009Z",
          "shell.execute_reply": "2024-04-04T08:26:36.322611Z"
        },
        "trusted": true,
        "collapsed": true,
        "id": "wTM0xPrh1s27",
        "outputId": "e0023c81-127e-42ef-ed40-4ebbb15c4fbe",
        "colab": {
          "base_uri": "https://localhost:8080/",
          "height": 1000
        }
      },
      "execution_count": null,
      "outputs": [
        {
          "output_type": "stream",
          "name": "stdout",
          "text": [
            "Collecting tensorflow==2.13.0\n",
            "  Downloading tensorflow-2.13.0-cp310-cp310-manylinux_2_17_x86_64.manylinux2014_x86_64.whl (524.1 MB)\n",
            "\u001b[2K     \u001b[90m━━━━━━━━━━━━━━━━━━━━━━━━━━━━━━━━━━━━━━━━\u001b[0m \u001b[32m524.1/524.1 MB\u001b[0m \u001b[31m2.8 MB/s\u001b[0m eta \u001b[36m0:00:00\u001b[0m\n",
            "\u001b[?25hCollecting numpy==1.23.5\n",
            "  Downloading numpy-1.23.5-cp310-cp310-manylinux_2_17_x86_64.manylinux2014_x86_64.whl (17.1 MB)\n",
            "\u001b[2K     \u001b[90m━━━━━━━━━━━━━━━━━━━━━━━━━━━━━━━━━━━━━━━━\u001b[0m \u001b[32m17.1/17.1 MB\u001b[0m \u001b[31m83.2 MB/s\u001b[0m eta \u001b[36m0:00:00\u001b[0m\n",
            "\u001b[?25hCollecting scipy==1.10.0\n",
            "  Downloading scipy-1.10.0-cp310-cp310-manylinux_2_17_x86_64.manylinux2014_x86_64.whl (34.4 MB)\n",
            "\u001b[2K     \u001b[90m━━━━━━━━━━━━━━━━━━━━━━━━━━━━━━━━━━━━━━━━\u001b[0m \u001b[32m34.4/34.4 MB\u001b[0m \u001b[31m22.7 MB/s\u001b[0m eta \u001b[36m0:00:00\u001b[0m\n",
            "\u001b[?25hCollecting matplotlib==3.7.0\n",
            "  Downloading matplotlib-3.7.0-cp310-cp310-manylinux_2_17_x86_64.manylinux2014_x86_64.whl (11.6 MB)\n",
            "\u001b[2K     \u001b[90m━━━━━━━━━━━━━━━━━━━━━━━━━━━━━━━━━━━━━━━━\u001b[0m \u001b[32m11.6/11.6 MB\u001b[0m \u001b[31m75.1 MB/s\u001b[0m eta \u001b[36m0:00:00\u001b[0m\n",
            "\u001b[?25hCollecting gdown==4.7.1\n",
            "  Downloading gdown-4.7.1-py3-none-any.whl (15 kB)\n",
            "Collecting jax==0.4.6\n",
            "  Downloading jax-0.4.6.tar.gz (1.2 MB)\n",
            "\u001b[2K     \u001b[90m━━━━━━━━━━━━━━━━━━━━━━━━━━━━━━━━━━━━━━━━\u001b[0m \u001b[32m1.2/1.2 MB\u001b[0m \u001b[31m72.2 MB/s\u001b[0m eta \u001b[36m0:00:00\u001b[0m\n",
            "\u001b[?25h  Preparing metadata (setup.py) ... \u001b[?25l\u001b[?25hdone\n",
            "Collecting jaxlib==0.4.6\n",
            "  Downloading jaxlib-0.4.6-cp310-cp310-manylinux2014_x86_64.whl (62.0 MB)\n",
            "\u001b[2K     \u001b[90m━━━━━━━━━━━━━━━━━━━━━━━━━━━━━━━━━━━━━━━━\u001b[0m \u001b[32m62.0/62.0 MB\u001b[0m \u001b[31m3.8 MB/s\u001b[0m eta \u001b[36m0:00:00\u001b[0m\n",
            "\u001b[?25hCollecting flax==0.5.3\n",
            "  Downloading flax-0.5.3-py3-none-any.whl (202 kB)\n",
            "\u001b[2K     \u001b[90m━━━━━━━━━━━━━━━━━━━━━━━━━━━━━━━━━━━━━━━━\u001b[0m \u001b[32m202.0/202.0 kB\u001b[0m \u001b[31m26.8 MB/s\u001b[0m eta \u001b[36m0:00:00\u001b[0m\n",
            "\u001b[?25hRequirement already satisfied: gin-config==0.5.0 in /usr/local/lib/python3.10/dist-packages (0.5.0)\n",
            "Collecting gin==0.1.6\n",
            "  Downloading gin-0.1.006.tar.bz2 (3.0 kB)\n",
            "  Preparing metadata (setup.py) ... \u001b[?25l\u001b[?25hdone\n",
            "Collecting t5==0.9.4\n",
            "  Downloading t5-0.9.4-py2.py3-none-any.whl (164 kB)\n",
            "\u001b[2K     \u001b[90m━━━━━━━━━━━━━━━━━━━━━━━━━━━━━━━━━━━━━━━━\u001b[0m \u001b[32m164.5/164.5 kB\u001b[0m \u001b[31m23.5 MB/s\u001b[0m eta \u001b[36m0:00:00\u001b[0m\n",
            "\u001b[?25hRequirement already satisfied: sentencepiece==0.1.99 in /usr/local/lib/python3.10/dist-packages (0.1.99)\n",
            "Requirement already satisfied: absl-py==1.4.0 in /usr/local/lib/python3.10/dist-packages (1.4.0)\n",
            "Collecting clu==0.0.7\n",
            "  Downloading clu-0.0.7-py3-none-any.whl (92 kB)\n",
            "\u001b[2K     \u001b[90m━━━━━━━━━━━━━━━━━━━━━━━━━━━━━━━━━━━━━━━━\u001b[0m \u001b[32m92.8/92.8 kB\u001b[0m \u001b[31m13.3 MB/s\u001b[0m eta \u001b[36m0:00:00\u001b[0m\n",
            "\u001b[?25hCollecting optax==0.1.7\n",
            "  Downloading optax-0.1.7-py3-none-any.whl (154 kB)\n",
            "\u001b[2K     \u001b[90m━━━━━━━━━━━━━━━━━━━━━━━━━━━━━━━━━━━━━━━━\u001b[0m \u001b[32m154.1/154.1 kB\u001b[0m \u001b[31m20.5 MB/s\u001b[0m eta \u001b[36m0:00:00\u001b[0m\n",
            "\u001b[?25hCollecting seqio==0.0.18\n",
            "  Downloading seqio-0.0.18-py3-none-any.whl (351 kB)\n",
            "\u001b[2K     \u001b[90m━━━━━━━━━━━━━━━━━━━━━━━━━━━━━━━━━━━━━━━━\u001b[0m \u001b[32m351.7/351.7 kB\u001b[0m \u001b[31m41.2 MB/s\u001b[0m eta \u001b[36m0:00:00\u001b[0m\n",
            "\u001b[?25hCollecting tensorflow-datasets==4.9.3\n",
            "  Downloading tensorflow_datasets-4.9.3-py3-none-any.whl (5.0 MB)\n",
            "\u001b[2K     \u001b[90m━━━━━━━━━━━━━━━━━━━━━━━━━━━━━━━━━━━━━━━━\u001b[0m \u001b[32m5.0/5.0 MB\u001b[0m \u001b[31m109.9 MB/s\u001b[0m eta \u001b[36m0:00:00\u001b[0m\n",
            "\u001b[?25hRequirement already satisfied: astunparse>=1.6.0 in /usr/local/lib/python3.10/dist-packages (from tensorflow==2.13.0) (1.6.3)\n",
            "Requirement already satisfied: flatbuffers>=23.1.21 in /usr/local/lib/python3.10/dist-packages (from tensorflow==2.13.0) (24.3.25)\n",
            "Collecting gast<=0.4.0,>=0.2.1 (from tensorflow==2.13.0)\n",
            "  Downloading gast-0.4.0-py3-none-any.whl (9.8 kB)\n",
            "Requirement already satisfied: google-pasta>=0.1.1 in /usr/local/lib/python3.10/dist-packages (from tensorflow==2.13.0) (0.2.0)\n",
            "Requirement already satisfied: grpcio<2.0,>=1.24.3 in /usr/local/lib/python3.10/dist-packages (from tensorflow==2.13.0) (1.64.1)\n",
            "Requirement already satisfied: h5py>=2.9.0 in /usr/local/lib/python3.10/dist-packages (from tensorflow==2.13.0) (3.9.0)\n",
            "Collecting keras<2.14,>=2.13.1 (from tensorflow==2.13.0)\n",
            "  Downloading keras-2.13.1-py3-none-any.whl (1.7 MB)\n",
            "\u001b[2K     \u001b[90m━━━━━━━━━━━━━━━━━━━━━━━━━━━━━━━━━━━━━━━━\u001b[0m \u001b[32m1.7/1.7 MB\u001b[0m \u001b[31m90.1 MB/s\u001b[0m eta \u001b[36m0:00:00\u001b[0m\n",
            "\u001b[?25hRequirement already satisfied: libclang>=13.0.0 in /usr/local/lib/python3.10/dist-packages (from tensorflow==2.13.0) (18.1.1)\n",
            "Requirement already satisfied: opt-einsum>=2.3.2 in /usr/local/lib/python3.10/dist-packages (from tensorflow==2.13.0) (3.3.0)\n",
            "Requirement already satisfied: packaging in /usr/local/lib/python3.10/dist-packages (from tensorflow==2.13.0) (24.1)\n",
            "Requirement already satisfied: protobuf!=4.21.0,!=4.21.1,!=4.21.2,!=4.21.3,!=4.21.4,!=4.21.5,<5.0.0dev,>=3.20.3 in /usr/local/lib/python3.10/dist-packages (from tensorflow==2.13.0) (3.20.3)\n",
            "Requirement already satisfied: setuptools in /usr/local/lib/python3.10/dist-packages (from tensorflow==2.13.0) (67.7.2)\n",
            "Requirement already satisfied: six>=1.12.0 in /usr/local/lib/python3.10/dist-packages (from tensorflow==2.13.0) (1.16.0)\n",
            "Collecting tensorboard<2.14,>=2.13 (from tensorflow==2.13.0)\n",
            "  Downloading tensorboard-2.13.0-py3-none-any.whl (5.6 MB)\n",
            "\u001b[2K     \u001b[90m━━━━━━━━━━━━━━━━━━━━━━━━━━━━━━━━━━━━━━━━\u001b[0m \u001b[32m5.6/5.6 MB\u001b[0m \u001b[31m112.4 MB/s\u001b[0m eta \u001b[36m0:00:00\u001b[0m\n",
            "\u001b[?25hCollecting tensorflow-estimator<2.14,>=2.13.0 (from tensorflow==2.13.0)\n",
            "  Downloading tensorflow_estimator-2.13.0-py2.py3-none-any.whl (440 kB)\n",
            "\u001b[2K     \u001b[90m━━━━━━━━━━━━━━━━━━━━━━━━━━━━━━━━━━━━━━━━\u001b[0m \u001b[32m440.8/440.8 kB\u001b[0m \u001b[31m48.7 MB/s\u001b[0m eta \u001b[36m0:00:00\u001b[0m\n",
            "\u001b[?25hRequirement already satisfied: termcolor>=1.1.0 in /usr/local/lib/python3.10/dist-packages (from tensorflow==2.13.0) (2.4.0)\n",
            "Collecting typing-extensions<4.6.0,>=3.6.6 (from tensorflow==2.13.0)\n",
            "  Downloading typing_extensions-4.5.0-py3-none-any.whl (27 kB)\n",
            "Requirement already satisfied: wrapt>=1.11.0 in /usr/local/lib/python3.10/dist-packages (from tensorflow==2.13.0) (1.14.1)\n",
            "Requirement already satisfied: tensorflow-io-gcs-filesystem>=0.23.1 in /usr/local/lib/python3.10/dist-packages (from tensorflow==2.13.0) (0.37.0)\n",
            "Requirement already satisfied: contourpy>=1.0.1 in /usr/local/lib/python3.10/dist-packages (from matplotlib==3.7.0) (1.2.1)\n",
            "Requirement already satisfied: cycler>=0.10 in /usr/local/lib/python3.10/dist-packages (from matplotlib==3.7.0) (0.12.1)\n",
            "Requirement already satisfied: fonttools>=4.22.0 in /usr/local/lib/python3.10/dist-packages (from matplotlib==3.7.0) (4.53.0)\n",
            "Requirement already satisfied: kiwisolver>=1.0.1 in /usr/local/lib/python3.10/dist-packages (from matplotlib==3.7.0) (1.4.5)\n",
            "Requirement already satisfied: pillow>=6.2.0 in /usr/local/lib/python3.10/dist-packages (from matplotlib==3.7.0) (9.4.0)\n",
            "Requirement already satisfied: pyparsing>=2.3.1 in /usr/local/lib/python3.10/dist-packages (from matplotlib==3.7.0) (3.1.2)\n",
            "Requirement already satisfied: python-dateutil>=2.7 in /usr/local/lib/python3.10/dist-packages (from matplotlib==3.7.0) (2.8.2)\n",
            "Requirement already satisfied: filelock in /usr/local/lib/python3.10/dist-packages (from gdown==4.7.1) (3.15.3)\n",
            "Requirement already satisfied: requests[socks] in /usr/local/lib/python3.10/dist-packages (from gdown==4.7.1) (2.31.0)\n",
            "Requirement already satisfied: tqdm in /usr/local/lib/python3.10/dist-packages (from gdown==4.7.1) (4.66.4)\n",
            "Requirement already satisfied: beautifulsoup4 in /usr/local/lib/python3.10/dist-packages (from gdown==4.7.1) (4.12.3)\n",
            "Requirement already satisfied: msgpack in /usr/local/lib/python3.10/dist-packages (from flax==0.5.3) (1.0.8)\n",
            "Collecting rich~=11.1 (from flax==0.5.3)\n",
            "  Downloading rich-11.2.0-py3-none-any.whl (217 kB)\n",
            "\u001b[2K     \u001b[90m━━━━━━━━━━━━━━━━━━━━━━━━━━━━━━━━━━━━━━━━\u001b[0m \u001b[32m217.3/217.3 kB\u001b[0m \u001b[31m27.4 MB/s\u001b[0m eta \u001b[36m0:00:00\u001b[0m\n",
            "\u001b[?25hRequirement already satisfied: tensorstore in /usr/local/lib/python3.10/dist-packages (from flax==0.5.3) (0.1.45)\n",
            "Requirement already satisfied: PyYAML>=5.4.1 in /usr/local/lib/python3.10/dist-packages (from flax==0.5.3) (6.0.1)\n",
            "Requirement already satisfied: babel in /usr/local/lib/python3.10/dist-packages (from t5==0.9.4) (2.15.0)\n",
            "Requirement already satisfied: editdistance in /usr/local/lib/python3.10/dist-packages (from t5==0.9.4) (0.6.2)\n",
            "Requirement already satisfied: immutabledict in /usr/local/lib/python3.10/dist-packages (from t5==0.9.4) (4.2.0)\n",
            "Collecting mesh-tensorflow[transformer]>=0.1.13 (from t5==0.9.4)\n",
            "  Downloading mesh_tensorflow-0.1.21-py3-none-any.whl (385 kB)\n",
            "\u001b[2K     \u001b[90m━━━━━━━━━━━━━━━━━━━━━━━━━━━━━━━━━━━━━━━━\u001b[0m \u001b[32m385.2/385.2 kB\u001b[0m \u001b[31m42.2 MB/s\u001b[0m eta \u001b[36m0:00:00\u001b[0m\n",
            "\u001b[?25hRequirement already satisfied: nltk in /usr/local/lib/python3.10/dist-packages (from t5==0.9.4) (3.8.1)\n",
            "Requirement already satisfied: pandas in /usr/local/lib/python3.10/dist-packages (from t5==0.9.4) (2.0.3)\n",
            "Collecting rouge-score>=0.1.2 (from t5==0.9.4)\n",
            "  Downloading rouge_score-0.1.2.tar.gz (17 kB)\n",
            "  Preparing metadata (setup.py) ... \u001b[?25l\u001b[?25hdone\n",
            "Collecting sacrebleu (from t5==0.9.4)\n",
            "  Downloading sacrebleu-2.4.2-py3-none-any.whl (106 kB)\n",
            "\u001b[2K     \u001b[90m━━━━━━━━━━━━━━━━━━━━━━━━━━━━━━━━━━━━━━━━\u001b[0m \u001b[32m106.7/106.7 kB\u001b[0m \u001b[31m17.7 MB/s\u001b[0m eta \u001b[36m0:00:00\u001b[0m\n",
            "\u001b[?25hRequirement already satisfied: scikit-learn in /usr/local/lib/python3.10/dist-packages (from t5==0.9.4) (1.2.2)\n",
            "Collecting seqio-nightly (from t5==0.9.4)\n",
            "  Downloading seqio_nightly-0.0.18.dev20240625-py3-none-any.whl (356 kB)\n",
            "\u001b[2K     \u001b[90m━━━━━━━━━━━━━━━━━━━━━━━━━━━━━━━━━━━━━━━━\u001b[0m \u001b[32m356.5/356.5 kB\u001b[0m \u001b[31m41.5 MB/s\u001b[0m eta \u001b[36m0:00:00\u001b[0m\n",
            "\u001b[?25hCollecting tfds-nightly (from t5==0.9.4)\n",
            "  Downloading tfds_nightly-4.9.6.dev202406250044-py3-none-any.whl (5.1 MB)\n",
            "\u001b[2K     \u001b[90m━━━━━━━━━━━━━━━━━━━━━━━━━━━━━━━━━━━━━━━━\u001b[0m \u001b[32m5.1/5.1 MB\u001b[0m \u001b[31m110.2 MB/s\u001b[0m eta \u001b[36m0:00:00\u001b[0m\n",
            "\u001b[?25hRequirement already satisfied: transformers>=2.7.0 in /usr/local/lib/python3.10/dist-packages (from t5==0.9.4) (4.41.2)\n",
            "Collecting cached-property (from clu==0.0.7)\n",
            "  Downloading cached_property-1.5.2-py2.py3-none-any.whl (7.6 kB)\n",
            "Requirement already satisfied: etils[epath] in /usr/local/lib/python3.10/dist-packages (from clu==0.0.7) (1.7.0)\n",
            "Collecting ml-collections (from clu==0.0.7)\n",
            "  Downloading ml_collections-0.1.1.tar.gz (77 kB)\n",
            "\u001b[2K     \u001b[90m━━━━━━━━━━━━━━━━━━━━━━━━━━━━━━━━━━━━━━━━\u001b[0m \u001b[32m77.9/77.9 kB\u001b[0m \u001b[31m12.7 MB/s\u001b[0m eta \u001b[36m0:00:00\u001b[0m\n",
            "\u001b[?25h  Preparing metadata (setup.py) ... \u001b[?25l\u001b[?25hdone\n",
            "Requirement already satisfied: chex>=0.1.5 in /usr/local/lib/python3.10/dist-packages (from optax==0.1.7) (0.1.86)\n",
            "Collecting pyglove (from seqio==0.0.18)\n",
            "  Downloading pyglove-0.4.4-py3-none-any.whl (577 kB)\n",
            "\u001b[2K     \u001b[90m━━━━━━━━━━━━━━━━━━━━━━━━━━━━━━━━━━━━━━━━\u001b[0m \u001b[32m577.8/577.8 kB\u001b[0m \u001b[31m51.3 MB/s\u001b[0m eta \u001b[36m0:00:00\u001b[0m\n",
            "\u001b[?25hCollecting tensorflow-text (from seqio==0.0.18)\n",
            "  Downloading tensorflow_text-2.16.1-cp310-cp310-manylinux_2_17_x86_64.manylinux2014_x86_64.whl (5.2 MB)\n",
            "\u001b[2K     \u001b[90m━━━━━━━━━━━━━━━━━━━━━━━━━━━━━━━━━━━━━━━━\u001b[0m \u001b[32m5.2/5.2 MB\u001b[0m \u001b[31m107.7 MB/s\u001b[0m eta \u001b[36m0:00:00\u001b[0m\n",
            "\u001b[?25hRequirement already satisfied: array-record in /usr/local/lib/python3.10/dist-packages (from tensorflow-datasets==4.9.3) (0.5.1)\n",
            "Requirement already satisfied: click in /usr/local/lib/python3.10/dist-packages (from tensorflow-datasets==4.9.3) (8.1.7)\n",
            "Requirement already satisfied: dm-tree in /usr/local/lib/python3.10/dist-packages (from tensorflow-datasets==4.9.3) (0.1.8)\n",
            "Requirement already satisfied: promise in /usr/local/lib/python3.10/dist-packages (from tensorflow-datasets==4.9.3) (2.3)\n",
            "Requirement already satisfied: psutil in /usr/local/lib/python3.10/dist-packages (from tensorflow-datasets==4.9.3) (5.9.5)\n",
            "Requirement already satisfied: tensorflow-metadata in /usr/local/lib/python3.10/dist-packages (from tensorflow-datasets==4.9.3) (1.15.0)\n",
            "Requirement already satisfied: toml in /usr/local/lib/python3.10/dist-packages (from tensorflow-datasets==4.9.3) (0.10.2)\n",
            "Requirement already satisfied: wheel<1.0,>=0.23.0 in /usr/local/lib/python3.10/dist-packages (from astunparse>=1.6.0->tensorflow==2.13.0) (0.43.0)\n",
            "INFO: pip is looking at multiple versions of chex to determine which version is compatible with other requirements. This could take a while.\n",
            "Collecting chex>=0.1.5 (from optax==0.1.7)\n",
            "  Downloading chex-0.1.85-py3-none-any.whl (95 kB)\n",
            "\u001b[2K     \u001b[90m━━━━━━━━━━━━━━━━━━━━━━━━━━━━━━━━━━━━━━━━\u001b[0m \u001b[32m95.1/95.1 kB\u001b[0m \u001b[31m14.8 MB/s\u001b[0m eta \u001b[36m0:00:00\u001b[0m\n",
            "\u001b[?25h  Downloading chex-0.1.84-py3-none-any.whl (94 kB)\n",
            "\u001b[2K     \u001b[90m━━━━━━━━━━━━━━━━━━━━━━━━━━━━━━━━━━━━━━━━\u001b[0m \u001b[32m94.8/94.8 kB\u001b[0m \u001b[31m16.5 MB/s\u001b[0m eta \u001b[36m0:00:00\u001b[0m\n",
            "\u001b[?25h  Downloading chex-0.1.83-py3-none-any.whl (94 kB)\n",
            "\u001b[2K     \u001b[90m━━━━━━━━━━━━━━━━━━━━━━━━━━━━━━━━━━━━━━━━\u001b[0m \u001b[32m94.7/94.7 kB\u001b[0m \u001b[31m15.6 MB/s\u001b[0m eta \u001b[36m0:00:00\u001b[0m\n",
            "\u001b[?25h  Downloading chex-0.1.82-py3-none-any.whl (94 kB)\n",
            "\u001b[2K     \u001b[90m━━━━━━━━━━━━━━━━━━━━━━━━━━━━━━━━━━━━━━━━\u001b[0m \u001b[32m94.8/94.8 kB\u001b[0m \u001b[31m15.5 MB/s\u001b[0m eta \u001b[36m0:00:00\u001b[0m\n",
            "\u001b[?25h  Downloading chex-0.1.81-py3-none-any.whl (94 kB)\n",
            "\u001b[2K     \u001b[90m━━━━━━━━━━━━━━━━━━━━━━━━━━━━━━━━━━━━━━━━\u001b[0m \u001b[32m94.5/94.5 kB\u001b[0m \u001b[31m13.8 MB/s\u001b[0m eta \u001b[36m0:00:00\u001b[0m\n",
            "\u001b[?25h  Downloading chex-0.1.7-py3-none-any.whl (89 kB)\n",
            "\u001b[2K     \u001b[90m━━━━━━━━━━━━━━━━━━━━━━━━━━━━━━━━━━━━━━━━\u001b[0m \u001b[32m89.6/89.6 kB\u001b[0m \u001b[31m13.0 MB/s\u001b[0m eta \u001b[36m0:00:00\u001b[0m\n",
            "\u001b[?25hRequirement already satisfied: toolz>=0.9.0 in /usr/local/lib/python3.10/dist-packages (from chex>=0.1.5->optax==0.1.7) (0.12.1)\n",
            "Requirement already satisfied: fsspec in /usr/local/lib/python3.10/dist-packages (from etils[epath]->clu==0.0.7) (2023.6.0)\n",
            "Requirement already satisfied: importlib_resources in /usr/local/lib/python3.10/dist-packages (from etils[epath]->clu==0.0.7) (6.4.0)\n",
            "Requirement already satisfied: zipp in /usr/local/lib/python3.10/dist-packages (from etils[epath]->clu==0.0.7) (3.19.2)\n",
            "Requirement already satisfied: future in /usr/local/lib/python3.10/dist-packages (from mesh-tensorflow[transformer]>=0.1.13->t5==0.9.4) (0.18.3)\n",
            "Requirement already satisfied: charset-normalizer<4,>=2 in /usr/local/lib/python3.10/dist-packages (from requests[socks]->gdown==4.7.1) (3.3.2)\n",
            "Requirement already satisfied: idna<4,>=2.5 in /usr/local/lib/python3.10/dist-packages (from requests[socks]->gdown==4.7.1) (3.7)\n",
            "Requirement already satisfied: urllib3<3,>=1.21.1 in /usr/local/lib/python3.10/dist-packages (from requests[socks]->gdown==4.7.1) (2.0.7)\n",
            "Requirement already satisfied: certifi>=2017.4.17 in /usr/local/lib/python3.10/dist-packages (from requests[socks]->gdown==4.7.1) (2024.6.2)\n",
            "Collecting colorama<0.5.0,>=0.4.0 (from rich~=11.1->flax==0.5.3)\n",
            "  Downloading colorama-0.4.6-py2.py3-none-any.whl (25 kB)\n",
            "Collecting commonmark<0.10.0,>=0.9.0 (from rich~=11.1->flax==0.5.3)\n",
            "  Downloading commonmark-0.9.1-py2.py3-none-any.whl (51 kB)\n",
            "\u001b[2K     \u001b[90m━━━━━━━━━━━━━━━━━━━━━━━━━━━━━━━━━━━━━━━━\u001b[0m \u001b[32m51.1/51.1 kB\u001b[0m \u001b[31m7.8 MB/s\u001b[0m eta \u001b[36m0:00:00\u001b[0m\n",
            "\u001b[?25hRequirement already satisfied: pygments<3.0.0,>=2.6.0 in /usr/local/lib/python3.10/dist-packages (from rich~=11.1->flax==0.5.3) (2.16.1)\n",
            "Requirement already satisfied: google-auth<3,>=1.6.3 in /usr/local/lib/python3.10/dist-packages (from tensorboard<2.14,>=2.13->tensorflow==2.13.0) (2.27.0)\n",
            "Collecting google-auth-oauthlib<1.1,>=0.5 (from tensorboard<2.14,>=2.13->tensorflow==2.13.0)\n",
            "  Downloading google_auth_oauthlib-1.0.0-py2.py3-none-any.whl (18 kB)\n",
            "Requirement already satisfied: markdown>=2.6.8 in /usr/local/lib/python3.10/dist-packages (from tensorboard<2.14,>=2.13->tensorflow==2.13.0) (3.6)\n",
            "Requirement already satisfied: tensorboard-data-server<0.8.0,>=0.7.0 in /usr/local/lib/python3.10/dist-packages (from tensorboard<2.14,>=2.13->tensorflow==2.13.0) (0.7.2)\n",
            "Requirement already satisfied: werkzeug>=1.0.1 in /usr/local/lib/python3.10/dist-packages (from tensorboard<2.14,>=2.13->tensorflow==2.13.0) (3.0.3)\n",
            "Requirement already satisfied: huggingface-hub<1.0,>=0.23.0 in /usr/local/lib/python3.10/dist-packages (from transformers>=2.7.0->t5==0.9.4) (0.23.4)\n",
            "Requirement already satisfied: regex!=2019.12.17 in /usr/local/lib/python3.10/dist-packages (from transformers>=2.7.0->t5==0.9.4) (2024.5.15)\n",
            "Requirement already satisfied: tokenizers<0.20,>=0.19 in /usr/local/lib/python3.10/dist-packages (from transformers>=2.7.0->t5==0.9.4) (0.19.1)\n",
            "Requirement already satisfied: safetensors>=0.4.1 in /usr/local/lib/python3.10/dist-packages (from transformers>=2.7.0->t5==0.9.4) (0.4.3)\n",
            "Requirement already satisfied: soupsieve>1.2 in /usr/local/lib/python3.10/dist-packages (from beautifulsoup4->gdown==4.7.1) (2.5)\n",
            "Requirement already satisfied: contextlib2 in /usr/local/lib/python3.10/dist-packages (from ml-collections->clu==0.0.7) (21.6.0)\n",
            "Requirement already satisfied: joblib in /usr/local/lib/python3.10/dist-packages (from nltk->t5==0.9.4) (1.4.2)\n",
            "Requirement already satisfied: pytz>=2020.1 in /usr/local/lib/python3.10/dist-packages (from pandas->t5==0.9.4) (2023.4)\n",
            "Requirement already satisfied: tzdata>=2022.1 in /usr/local/lib/python3.10/dist-packages (from pandas->t5==0.9.4) (2024.1)\n",
            "Requirement already satisfied: docstring-parser>=0.12 in /usr/local/lib/python3.10/dist-packages (from pyglove->seqio==0.0.18) (0.16)\n",
            "Requirement already satisfied: PySocks!=1.5.7,>=1.5.6 in /usr/local/lib/python3.10/dist-packages (from requests[socks]->gdown==4.7.1) (1.7.1)\n",
            "Collecting portalocker (from sacrebleu->t5==0.9.4)\n",
            "  Downloading portalocker-2.10.0-py3-none-any.whl (18 kB)\n",
            "Requirement already satisfied: tabulate>=0.8.9 in /usr/local/lib/python3.10/dist-packages (from sacrebleu->t5==0.9.4) (0.9.0)\n",
            "Requirement already satisfied: lxml in /usr/local/lib/python3.10/dist-packages (from sacrebleu->t5==0.9.4) (4.9.4)\n",
            "Requirement already satisfied: threadpoolctl>=2.0.0 in /usr/local/lib/python3.10/dist-packages (from scikit-learn->t5==0.9.4) (3.5.0)\n",
            "INFO: pip is looking at multiple versions of seqio-nightly to determine which version is compatible with other requirements. This could take a while.\n",
            "Collecting seqio-nightly (from t5==0.9.4)\n",
            "  Downloading seqio_nightly-0.0.18.dev20240624-py3-none-any.whl (356 kB)\n",
            "\u001b[2K     \u001b[90m━━━━━━━━━━━━━━━━━━━━━━━━━━━━━━━━━━━━━━━━\u001b[0m \u001b[32m356.5/356.5 kB\u001b[0m \u001b[31m42.3 MB/s\u001b[0m eta \u001b[36m0:00:00\u001b[0m\n",
            "\u001b[?25h  Downloading seqio_nightly-0.0.18.dev20240623-py3-none-any.whl (356 kB)\n",
            "\u001b[2K     \u001b[90m━━━━━━━━━━━━━━━━━━━━━━━━━━━━━━━━━━━━━━━━\u001b[0m \u001b[32m356.5/356.5 kB\u001b[0m \u001b[31m44.3 MB/s\u001b[0m eta \u001b[36m0:00:00\u001b[0m\n",
            "\u001b[?25h  Downloading seqio_nightly-0.0.18.dev20240622-py3-none-any.whl (356 kB)\n",
            "\u001b[2K     \u001b[90m━━━━━━━━━━━━━━━━━━━━━━━━━━━━━━━━━━━━━━━━\u001b[0m \u001b[32m356.4/356.4 kB\u001b[0m \u001b[31m28.0 MB/s\u001b[0m eta \u001b[36m0:00:00\u001b[0m\n",
            "\u001b[?25h  Downloading seqio_nightly-0.0.18.dev20240621-py3-none-any.whl (356 kB)\n",
            "\u001b[2K     \u001b[90m━━━━━━━━━━━━━━━━━━━━━━━━━━━━━━━━━━━━━━━━\u001b[0m \u001b[32m356.5/356.5 kB\u001b[0m \u001b[31m41.4 MB/s\u001b[0m eta \u001b[36m0:00:00\u001b[0m\n",
            "\u001b[?25h  Downloading seqio_nightly-0.0.18.dev20240620-py3-none-any.whl (356 kB)\n",
            "\u001b[2K     \u001b[90m━━━━━━━━━━━━━━━━━━━━━━━━━━━━━━━━━━━━━━━━\u001b[0m \u001b[32m356.4/356.4 kB\u001b[0m \u001b[31m42.4 MB/s\u001b[0m eta \u001b[36m0:00:00\u001b[0m\n",
            "\u001b[?25h  Downloading seqio_nightly-0.0.18.dev20240619-py3-none-any.whl (356 kB)\n",
            "\u001b[2K     \u001b[90m━━━━━━━━━━━━━━━━━━━━━━━━━━━━━━━━━━━━━━━━\u001b[0m \u001b[32m356.5/356.5 kB\u001b[0m \u001b[31m40.9 MB/s\u001b[0m eta \u001b[36m0:00:00\u001b[0m\n",
            "\u001b[?25h  Downloading seqio_nightly-0.0.18.dev20240618-py3-none-any.whl (356 kB)\n",
            "\u001b[2K     \u001b[90m━━━━━━━━━━━━━━━━━━━━━━━━━━━━━━━━━━━━━━━━\u001b[0m \u001b[32m356.4/356.4 kB\u001b[0m \u001b[31m41.4 MB/s\u001b[0m eta \u001b[36m0:00:00\u001b[0m\n",
            "\u001b[?25hINFO: pip is looking at multiple versions of seqio-nightly to determine which version is compatible with other requirements. This could take a while.\n",
            "  Downloading seqio_nightly-0.0.18.dev20240617-py3-none-any.whl (356 kB)\n",
            "\u001b[2K     \u001b[90m━━━━━━━━━━━━━━━━━━━━━━━━━━━━━━━━━━━━━━━━\u001b[0m \u001b[32m356.5/356.5 kB\u001b[0m \u001b[31m41.9 MB/s\u001b[0m eta \u001b[36m0:00:00\u001b[0m\n",
            "\u001b[?25h  Downloading seqio_nightly-0.0.18.dev20240616-py3-none-any.whl (356 kB)\n",
            "\u001b[2K     \u001b[90m━━━━━━━━━━━━━━━━━━━━━━━━━━━━━━━━━━━━━━━━\u001b[0m \u001b[32m356.5/356.5 kB\u001b[0m \u001b[31m40.4 MB/s\u001b[0m eta \u001b[36m0:00:00\u001b[0m\n",
            "\u001b[?25h  Downloading seqio_nightly-0.0.18.dev20240615-py3-none-any.whl (356 kB)\n",
            "\u001b[2K     \u001b[90m━━━━━━━━━━━━━━━━━━━━━━━━━━━━━━━━━━━━━━━━\u001b[0m \u001b[32m356.4/356.4 kB\u001b[0m \u001b[31m42.6 MB/s\u001b[0m eta \u001b[36m0:00:00\u001b[0m\n",
            "\u001b[?25h  Downloading seqio_nightly-0.0.18.dev20240614-py3-none-any.whl (356 kB)\n",
            "\u001b[2K     \u001b[90m━━━━━━━━━━━━━━━━━━━━━━━━━━━━━━━━━━━━━━━━\u001b[0m \u001b[32m356.4/356.4 kB\u001b[0m \u001b[31m41.0 MB/s\u001b[0m eta \u001b[36m0:00:00\u001b[0m\n",
            "\u001b[?25h  Downloading seqio_nightly-0.0.18.dev20240613-py3-none-any.whl (356 kB)\n",
            "\u001b[2K     \u001b[90m━━━━━━━━━━━━━━━━━━━━━━━━━━━━━━━━━━━━━━━━\u001b[0m \u001b[32m356.4/356.4 kB\u001b[0m \u001b[31m45.6 MB/s\u001b[0m eta \u001b[36m0:00:00\u001b[0m\n",
            "\u001b[?25hINFO: This is taking longer than usual. You might need to provide the dependency resolver with stricter constraints to reduce runtime. See https://pip.pypa.io/warnings/backtracking for guidance. If you want to abort this run, press Ctrl + C.\n",
            "  Downloading seqio_nightly-0.0.18.dev20240612-py3-none-any.whl (356 kB)\n",
            "\u001b[2K     \u001b[90m━━━━━━━━━━━━━━━━━━━━━━━━━━━━━━━━━━━━━━━━\u001b[0m \u001b[32m356.4/356.4 kB\u001b[0m \u001b[31m42.7 MB/s\u001b[0m eta \u001b[36m0:00:00\u001b[0m\n",
            "\u001b[?25h  Downloading seqio_nightly-0.0.18.dev20240611-py3-none-any.whl (356 kB)\n",
            "\u001b[2K     \u001b[90m━━━━━━━━━━━━━━━━━━━━━━━━━━━━━━━━━━━━━━━━\u001b[0m \u001b[32m356.4/356.4 kB\u001b[0m \u001b[31m40.3 MB/s\u001b[0m eta \u001b[36m0:00:00\u001b[0m\n",
            "\u001b[?25h  Downloading seqio_nightly-0.0.18.dev20240610-py3-none-any.whl (356 kB)\n",
            "\u001b[2K     \u001b[90m━━━━━━━━━━━━━━━━━━━━━━━━━━━━━━━━━━━━━━━━\u001b[0m \u001b[32m356.4/356.4 kB\u001b[0m \u001b[31m38.0 MB/s\u001b[0m eta \u001b[36m0:00:00\u001b[0m\n",
            "\u001b[?25h  Downloading seqio_nightly-0.0.18.dev20240609-py3-none-any.whl (356 kB)\n",
            "\u001b[2K     \u001b[90m━━━━━━━━━━━━━━━━━━━━━━━━━━━━━━━━━━━━━━━━\u001b[0m \u001b[32m356.4/356.4 kB\u001b[0m \u001b[31m42.0 MB/s\u001b[0m eta \u001b[36m0:00:00\u001b[0m\n",
            "\u001b[?25h  Downloading seqio_nightly-0.0.18.dev20240608-py3-none-any.whl (356 kB)\n",
            "\u001b[2K     \u001b[90m━━━━━━━━━━━━━━━━━━━━━━━━━━━━━━━━━━━━━━━━\u001b[0m \u001b[32m356.4/356.4 kB\u001b[0m \u001b[31m29.6 MB/s\u001b[0m eta \u001b[36m0:00:00\u001b[0m\n",
            "\u001b[?25h  Downloading seqio_nightly-0.0.18.dev20240607-py3-none-any.whl (356 kB)\n",
            "\u001b[2K     \u001b[90m━━━━━━━━━━━━━━━━━━━━━━━━━━━━━━━━━━━━━━━━\u001b[0m \u001b[32m356.4/356.4 kB\u001b[0m \u001b[31m38.9 MB/s\u001b[0m eta \u001b[36m0:00:00\u001b[0m\n",
            "\u001b[?25h  Downloading seqio_nightly-0.0.18.dev20240606-py3-none-any.whl (356 kB)\n",
            "\u001b[2K     \u001b[90m━━━━━━━━━━━━━━━━━━━━━━━━━━━━━━━━━━━━━━━━\u001b[0m \u001b[32m356.4/356.4 kB\u001b[0m \u001b[31m39.5 MB/s\u001b[0m eta \u001b[36m0:00:00\u001b[0m\n",
            "\u001b[?25h  Downloading seqio_nightly-0.0.18.dev20240605-py3-none-any.whl (356 kB)\n",
            "\u001b[2K     \u001b[90m━━━━━━━━━━━━━━━━━━━━━━━━━━━━━━━━━━━━━━━━\u001b[0m \u001b[32m356.4/356.4 kB\u001b[0m \u001b[31m40.6 MB/s\u001b[0m eta \u001b[36m0:00:00\u001b[0m\n",
            "\u001b[?25h  Downloading seqio_nightly-0.0.18.dev20240604-py3-none-any.whl (356 kB)\n",
            "\u001b[2K     \u001b[90m━━━━━━━━━━━━━━━━━━━━━━━━━━━━━━━━━━━━━━━━\u001b[0m \u001b[32m356.4/356.4 kB\u001b[0m \u001b[31m44.7 MB/s\u001b[0m eta \u001b[36m0:00:00\u001b[0m\n",
            "\u001b[?25h  Downloading seqio_nightly-0.0.18.dev20240603-py3-none-any.whl (356 kB)\n",
            "\u001b[2K     \u001b[90m━━━━━━━━━━━━━━━━━━━━━━━━━━━━━━━━━━━━━━━━\u001b[0m \u001b[32m356.4/356.4 kB\u001b[0m \u001b[31m39.6 MB/s\u001b[0m eta \u001b[36m0:00:00\u001b[0m\n",
            "\u001b[?25h  Downloading seqio_nightly-0.0.18.dev20240602-py3-none-any.whl (356 kB)\n",
            "\u001b[2K     \u001b[90m━━━━━━━━━━━━━━━━━━━━━━━━━━━━━━━━━━━━━━━━\u001b[0m \u001b[32m356.4/356.4 kB\u001b[0m \u001b[31m34.8 MB/s\u001b[0m eta \u001b[36m0:00:00\u001b[0m\n",
            "\u001b[?25h  Downloading seqio_nightly-0.0.18.dev20240601-py3-none-any.whl (356 kB)\n",
            "\u001b[2K     \u001b[90m━━━━━━━━━━━━━━━━━━━━━━━━━━━━━━━━━━━━━━━━\u001b[0m \u001b[32m356.4/356.4 kB\u001b[0m \u001b[31m41.9 MB/s\u001b[0m eta \u001b[36m0:00:00\u001b[0m\n",
            "\u001b[?25h  Downloading seqio_nightly-0.0.18.dev20240531-py3-none-any.whl (356 kB)\n",
            "\u001b[2K     \u001b[90m━━━━━━━━━━━━━━━━━━━━━━━━━━━━━━━━━━━━━━━━\u001b[0m \u001b[32m356.4/356.4 kB\u001b[0m \u001b[31m2.5 MB/s\u001b[0m eta \u001b[36m0:00:00\u001b[0m\n",
            "\u001b[?25h  Downloading seqio_nightly-0.0.18.dev20240530-py3-none-any.whl (356 kB)\n",
            "\u001b[2K     \u001b[90m━━━━━━━━━━━━━━━━━━━━━━━━━━━━━━━━━━━━━━━━\u001b[0m \u001b[32m356.3/356.3 kB\u001b[0m \u001b[31m42.1 MB/s\u001b[0m eta \u001b[36m0:00:00\u001b[0m\n",
            "\u001b[?25h  Downloading seqio_nightly-0.0.18.dev20240529-py3-none-any.whl (356 kB)\n",
            "\u001b[2K     \u001b[90m━━━━━━━━━━━━━━━━━━━━━━━━━━━━━━━━━━━━━━━━\u001b[0m \u001b[32m356.3/356.3 kB\u001b[0m \u001b[31m39.7 MB/s\u001b[0m eta \u001b[36m0:00:00\u001b[0m\n",
            "\u001b[?25h  Downloading seqio_nightly-0.0.18.dev20240528-py3-none-any.whl (356 kB)\n",
            "\u001b[2K     \u001b[90m━━━━━━━━━━━━━━━━━━━━━━━━━━━━━━━━━━━━━━━━\u001b[0m \u001b[32m356.1/356.1 kB\u001b[0m \u001b[31m2.6 MB/s\u001b[0m eta \u001b[36m0:00:00\u001b[0m\n",
            "\u001b[?25h  Downloading seqio_nightly-0.0.18.dev20240527-py3-none-any.whl (356 kB)\n",
            "\u001b[2K     \u001b[90m━━━━━━━━━━━━━━━━━━━━━━━━━━━━━━━━━━━━━━━━\u001b[0m \u001b[32m356.1/356.1 kB\u001b[0m \u001b[31m40.0 MB/s\u001b[0m eta \u001b[36m0:00:00\u001b[0m\n",
            "\u001b[?25h  Downloading seqio_nightly-0.0.18.dev20240526-py3-none-any.whl (356 kB)\n",
            "\u001b[2K     \u001b[90m━━━━━━━━━━━━━━━━━━━━━━━━━━━━━━━━━━━━━━━━\u001b[0m \u001b[32m356.1/356.1 kB\u001b[0m \u001b[31m43.3 MB/s\u001b[0m eta \u001b[36m0:00:00\u001b[0m\n",
            "\u001b[?25h  Downloading seqio_nightly-0.0.18.dev20240525-py3-none-any.whl (356 kB)\n",
            "\u001b[2K     \u001b[90m━━━━━━━━━━━━━━━━━━━━━━━━━━━━━━━━━━━━━━━━\u001b[0m \u001b[32m356.1/356.1 kB\u001b[0m \u001b[31m39.1 MB/s\u001b[0m eta \u001b[36m0:00:00\u001b[0m\n",
            "\u001b[?25h  Downloading seqio_nightly-0.0.18.dev20240524-py3-none-any.whl (356 kB)\n",
            "\u001b[2K     \u001b[90m━━━━━━━━━━━━━━━━━━━━━━━━━━━━━━━━━━━━━━━━\u001b[0m \u001b[32m356.1/356.1 kB\u001b[0m \u001b[31m41.7 MB/s\u001b[0m eta \u001b[36m0:00:00\u001b[0m\n",
            "\u001b[?25hCollecting tfds-nightly (from t5==0.9.4)\n",
            "  Downloading tfds_nightly-4.9.2.dev202308090034-py3-none-any.whl (5.0 MB)\n",
            "\u001b[2K     \u001b[90m━━━━━━━━━━━━━━━━━━━━━━━━━━━━━━━━━━━━━━━━\u001b[0m \u001b[32m5.0/5.0 MB\u001b[0m \u001b[31m13.3 MB/s\u001b[0m eta \u001b[36m0:00:00\u001b[0m\n",
            "\u001b[?25hINFO: pip is looking at multiple versions of tensorflow-text to determine which version is compatible with other requirements. This could take a while.\n",
            "Collecting tensorflow-text (from seqio==0.0.18)\n",
            "  Downloading tensorflow_text-2.15.0-cp310-cp310-manylinux_2_17_x86_64.manylinux2014_x86_64.whl (5.2 MB)\n",
            "\u001b[2K     \u001b[90m━━━━━━━━━━━━━━━━━━━━━━━━━━━━━━━━━━━━━━━━\u001b[0m \u001b[32m5.2/5.2 MB\u001b[0m \u001b[31m98.2 MB/s\u001b[0m eta \u001b[36m0:00:00\u001b[0m\n",
            "\u001b[?25hRequirement already satisfied: tensorflow-hub>=0.13.0 in /usr/local/lib/python3.10/dist-packages (from tensorflow-text->seqio==0.0.18) (0.16.1)\n",
            "  Downloading tensorflow_text-2.14.0-cp310-cp310-manylinux_2_17_x86_64.manylinux2014_x86_64.whl (6.5 MB)\n",
            "\u001b[2K     \u001b[90m━━━━━━━━━━━━━━━━━━━━━━━━━━━━━━━━━━━━━━━━\u001b[0m \u001b[32m6.5/6.5 MB\u001b[0m \u001b[31m3.8 MB/s\u001b[0m eta \u001b[36m0:00:00\u001b[0m\n",
            "\u001b[?25h  Downloading tensorflow_text-2.13.0-cp310-cp310-manylinux_2_17_x86_64.manylinux2014_x86_64.whl (6.5 MB)\n",
            "\u001b[2K     \u001b[90m━━━━━━━━━━━━━━━━━━━━━━━━━━━━━━━━━━━━━━━━\u001b[0m \u001b[32m6.5/6.5 MB\u001b[0m \u001b[31m19.8 MB/s\u001b[0m eta \u001b[36m0:00:00\u001b[0m\n",
            "\u001b[?25hRequirement already satisfied: cachetools<6.0,>=2.0.0 in /usr/local/lib/python3.10/dist-packages (from google-auth<3,>=1.6.3->tensorboard<2.14,>=2.13->tensorflow==2.13.0) (5.3.3)\n",
            "Requirement already satisfied: pyasn1-modules>=0.2.1 in /usr/local/lib/python3.10/dist-packages (from google-auth<3,>=1.6.3->tensorboard<2.14,>=2.13->tensorflow==2.13.0) (0.4.0)\n",
            "Requirement already satisfied: rsa<5,>=3.1.4 in /usr/local/lib/python3.10/dist-packages (from google-auth<3,>=1.6.3->tensorboard<2.14,>=2.13->tensorflow==2.13.0) (4.9)\n",
            "Requirement already satisfied: requests-oauthlib>=0.7.0 in /usr/local/lib/python3.10/dist-packages (from google-auth-oauthlib<1.1,>=0.5->tensorboard<2.14,>=2.13->tensorflow==2.13.0) (1.3.1)\n",
            "Requirement already satisfied: tf-keras>=2.14.1 in /usr/local/lib/python3.10/dist-packages (from tensorflow-hub>=0.13.0->tensorflow-text->seqio==0.0.18) (2.15.1)\n",
            "Requirement already satisfied: MarkupSafe>=2.1.1 in /usr/local/lib/python3.10/dist-packages (from werkzeug>=1.0.1->tensorboard<2.14,>=2.13->tensorflow==2.13.0) (2.1.5)\n",
            "Requirement already satisfied: pyasn1<0.7.0,>=0.4.6 in /usr/local/lib/python3.10/dist-packages (from pyasn1-modules>=0.2.1->google-auth<3,>=1.6.3->tensorboard<2.14,>=2.13->tensorflow==2.13.0) (0.6.0)\n",
            "Requirement already satisfied: oauthlib>=3.0.0 in /usr/local/lib/python3.10/dist-packages (from requests-oauthlib>=0.7.0->google-auth-oauthlib<1.1,>=0.5->tensorboard<2.14,>=2.13->tensorflow==2.13.0) (3.2.2)\n",
            "INFO: pip is looking at multiple versions of tf-keras to determine which version is compatible with other requirements. This could take a while.\n",
            "Collecting tf-keras>=2.14.1 (from tensorflow-hub>=0.13.0->tensorflow-text->seqio==0.0.18)\n",
            "  Downloading tf_keras-2.16.0-py3-none-any.whl (1.7 MB)\n",
            "\u001b[2K     \u001b[90m━━━━━━━━━━━━━━━━━━━━━━━━━━━━━━━━━━━━━━━━\u001b[0m \u001b[32m1.7/1.7 MB\u001b[0m \u001b[31m84.3 MB/s\u001b[0m eta \u001b[36m0:00:00\u001b[0m\n",
            "\u001b[?25h  Downloading tf_keras-2.15.0-py3-none-any.whl (1.7 MB)\n",
            "\u001b[2K     \u001b[90m━━━━━━━━━━━━━━━━━━━━━━━━━━━━━━━━━━━━━━━━\u001b[0m \u001b[32m1.7/1.7 MB\u001b[0m \u001b[31m84.5 MB/s\u001b[0m eta \u001b[36m0:00:00\u001b[0m\n",
            "\u001b[?25hBuilding wheels for collected packages: jax, gin, rouge-score, ml-collections\n",
            "  Building wheel for jax (setup.py) ... \u001b[?25l\u001b[?25hdone\n",
            "  Created wheel for jax: filename=jax-0.4.6-py3-none-any.whl size=1432709 sha256=11853368e351aabd0fc9d140b99e40db02e047f45870f7876875b4c79b328108\n",
            "  Stored in directory: /root/.cache/pip/wheels/28/7e/d8/8d95ab71cec5f4ad4df8da6d4787e049a97ddf5125b8814bb3\n",
            "  Building wheel for gin (setup.py) ... \u001b[?25l\u001b[?25hdone\n",
            "  Created wheel for gin: filename=gin-0.1.6-py3-none-any.whl size=3364 sha256=75b16940333e2248481a812561303b75f3f36d9d4829e309f4d55a27fc71b6cc\n",
            "  Stored in directory: /root/.cache/pip/wheels/d4/87/5b/9aa267e4470bcfab32d6dcc559d7449905894a34b8a89a9abb\n",
            "  Building wheel for rouge-score (setup.py) ... \u001b[?25l\u001b[?25hdone\n",
            "  Created wheel for rouge-score: filename=rouge_score-0.1.2-py3-none-any.whl size=24933 sha256=31457c11c128b6973386c63af7d7cb2a786258ecb293363bccaf868961ad7ef2\n",
            "  Stored in directory: /root/.cache/pip/wheels/5f/dd/89/461065a73be61a532ff8599a28e9beef17985c9e9c31e541b4\n",
            "  Building wheel for ml-collections (setup.py) ... \u001b[?25l\u001b[?25hdone\n",
            "  Created wheel for ml-collections: filename=ml_collections-0.1.1-py3-none-any.whl size=94506 sha256=2c648c5085eb2f04b59225c68c663485507f0fd7b0e1630ff102d1703208dff1\n",
            "  Stored in directory: /root/.cache/pip/wheels/7b/89/c9/a9b87790789e94aadcfc393c283e3ecd5ab916aed0a31be8fe\n",
            "Successfully built jax gin rouge-score ml-collections\n",
            "Installing collected packages: gin, commonmark, cached-property, typing-extensions, tf-keras, tensorflow-estimator, pyglove, portalocker, numpy, ml-collections, mesh-tensorflow, keras, gast, colorama, scipy, sacrebleu, rouge-score, rich, matplotlib, jaxlib, jax, google-auth-oauthlib, gdown, tensorboard, chex, tensorflow, optax, tfds-nightly, tensorflow-text, tensorflow-datasets, flax, clu, seqio-nightly, seqio, t5\n",
            "  Attempting uninstall: typing-extensions\n",
            "    Found existing installation: typing_extensions 4.12.2\n",
            "    Uninstalling typing_extensions-4.12.2:\n",
            "      Successfully uninstalled typing_extensions-4.12.2\n",
            "  Attempting uninstall: tf-keras\n",
            "    Found existing installation: tf_keras 2.15.1\n",
            "    Uninstalling tf_keras-2.15.1:\n",
            "      Successfully uninstalled tf_keras-2.15.1\n",
            "  Attempting uninstall: tensorflow-estimator\n",
            "    Found existing installation: tensorflow-estimator 2.15.0\n",
            "    Uninstalling tensorflow-estimator-2.15.0:\n",
            "      Successfully uninstalled tensorflow-estimator-2.15.0\n",
            "  Attempting uninstall: numpy\n",
            "    Found existing installation: numpy 1.25.2\n",
            "    Uninstalling numpy-1.25.2:\n",
            "      Successfully uninstalled numpy-1.25.2\n",
            "  Attempting uninstall: keras\n",
            "    Found existing installation: keras 2.15.0\n",
            "    Uninstalling keras-2.15.0:\n",
            "      Successfully uninstalled keras-2.15.0\n",
            "  Attempting uninstall: gast\n",
            "    Found existing installation: gast 0.5.4\n",
            "    Uninstalling gast-0.5.4:\n",
            "      Successfully uninstalled gast-0.5.4\n",
            "  Attempting uninstall: scipy\n",
            "    Found existing installation: scipy 1.11.4\n",
            "    Uninstalling scipy-1.11.4:\n",
            "      Successfully uninstalled scipy-1.11.4\n",
            "  Attempting uninstall: rich\n",
            "    Found existing installation: rich 13.7.1\n",
            "    Uninstalling rich-13.7.1:\n",
            "      Successfully uninstalled rich-13.7.1\n",
            "  Attempting uninstall: matplotlib\n",
            "    Found existing installation: matplotlib 3.7.1\n",
            "    Uninstalling matplotlib-3.7.1:\n",
            "      Successfully uninstalled matplotlib-3.7.1\n",
            "  Attempting uninstall: jaxlib\n",
            "    Found existing installation: jaxlib 0.4.26+cuda12.cudnn89\n",
            "    Uninstalling jaxlib-0.4.26+cuda12.cudnn89:\n",
            "      Successfully uninstalled jaxlib-0.4.26+cuda12.cudnn89\n",
            "  Attempting uninstall: jax\n",
            "    Found existing installation: jax 0.4.26\n",
            "    Uninstalling jax-0.4.26:\n",
            "      Successfully uninstalled jax-0.4.26\n",
            "  Attempting uninstall: google-auth-oauthlib\n",
            "    Found existing installation: google-auth-oauthlib 1.2.0\n",
            "    Uninstalling google-auth-oauthlib-1.2.0:\n",
            "      Successfully uninstalled google-auth-oauthlib-1.2.0\n",
            "  Attempting uninstall: gdown\n",
            "    Found existing installation: gdown 5.1.0\n",
            "    Uninstalling gdown-5.1.0:\n",
            "      Successfully uninstalled gdown-5.1.0\n",
            "  Attempting uninstall: tensorboard\n",
            "    Found existing installation: tensorboard 2.15.2\n",
            "    Uninstalling tensorboard-2.15.2:\n",
            "      Successfully uninstalled tensorboard-2.15.2\n",
            "  Attempting uninstall: chex\n",
            "    Found existing installation: chex 0.1.86\n",
            "    Uninstalling chex-0.1.86:\n",
            "      Successfully uninstalled chex-0.1.86\n",
            "  Attempting uninstall: tensorflow\n",
            "    Found existing installation: tensorflow 2.15.0\n",
            "    Uninstalling tensorflow-2.15.0:\n",
            "      Successfully uninstalled tensorflow-2.15.0\n",
            "  Attempting uninstall: optax\n",
            "    Found existing installation: optax 0.2.2\n",
            "    Uninstalling optax-0.2.2:\n",
            "      Successfully uninstalled optax-0.2.2\n",
            "  Attempting uninstall: tensorflow-datasets\n",
            "    Found existing installation: tensorflow-datasets 4.9.6\n",
            "    Uninstalling tensorflow-datasets-4.9.6:\n",
            "      Successfully uninstalled tensorflow-datasets-4.9.6\n",
            "  Attempting uninstall: flax\n",
            "    Found existing installation: flax 0.8.4\n",
            "    Uninstalling flax-0.8.4:\n",
            "      Successfully uninstalled flax-0.8.4\n",
            "\u001b[31mERROR: pip's dependency resolver does not currently take into account all the packages that are installed. This behaviour is the source of the following dependency conflicts.\n",
            "torch 2.3.0+cu121 requires nvidia-cublas-cu12==12.1.3.1; platform_system == \"Linux\" and platform_machine == \"x86_64\", which is not installed.\n",
            "torch 2.3.0+cu121 requires nvidia-cuda-cupti-cu12==12.1.105; platform_system == \"Linux\" and platform_machine == \"x86_64\", which is not installed.\n",
            "torch 2.3.0+cu121 requires nvidia-cuda-nvrtc-cu12==12.1.105; platform_system == \"Linux\" and platform_machine == \"x86_64\", which is not installed.\n",
            "torch 2.3.0+cu121 requires nvidia-cuda-runtime-cu12==12.1.105; platform_system == \"Linux\" and platform_machine == \"x86_64\", which is not installed.\n",
            "torch 2.3.0+cu121 requires nvidia-cudnn-cu12==8.9.2.26; platform_system == \"Linux\" and platform_machine == \"x86_64\", which is not installed.\n",
            "torch 2.3.0+cu121 requires nvidia-cufft-cu12==11.0.2.54; platform_system == \"Linux\" and platform_machine == \"x86_64\", which is not installed.\n",
            "torch 2.3.0+cu121 requires nvidia-curand-cu12==10.3.2.106; platform_system == \"Linux\" and platform_machine == \"x86_64\", which is not installed.\n",
            "torch 2.3.0+cu121 requires nvidia-cusolver-cu12==11.4.5.107; platform_system == \"Linux\" and platform_machine == \"x86_64\", which is not installed.\n",
            "torch 2.3.0+cu121 requires nvidia-cusparse-cu12==12.1.0.106; platform_system == \"Linux\" and platform_machine == \"x86_64\", which is not installed.\n",
            "torch 2.3.0+cu121 requires nvidia-nccl-cu12==2.20.5; platform_system == \"Linux\" and platform_machine == \"x86_64\", which is not installed.\n",
            "torch 2.3.0+cu121 requires nvidia-nvtx-cu12==12.1.105; platform_system == \"Linux\" and platform_machine == \"x86_64\", which is not installed.\n",
            "sqlalchemy 2.0.31 requires typing-extensions>=4.6.0, but you have typing-extensions 4.5.0 which is incompatible.\n",
            "bigframes 1.9.0 requires matplotlib>=3.7.1, but you have matplotlib 3.7.0 which is incompatible.\n",
            "ibis-framework 8.0.0 requires rich<14,>=12.4.4, but you have rich 11.2.0 which is incompatible.\n",
            "orbax-checkpoint 0.4.4 requires jax>=0.4.9, but you have jax 0.4.6 which is incompatible.\n",
            "pandas-stubs 2.0.3.230814 requires numpy>=1.25.0; python_version >= \"3.9\", but you have numpy 1.23.5 which is incompatible.\n",
            "pydantic 2.7.4 requires typing-extensions>=4.6.1, but you have typing-extensions 4.5.0 which is incompatible.\n",
            "pydantic-core 2.18.4 requires typing-extensions!=4.7.0,>=4.6.0, but you have typing-extensions 4.5.0 which is incompatible.\n",
            "torch 2.3.0+cu121 requires typing-extensions>=4.8.0, but you have typing-extensions 4.5.0 which is incompatible.\u001b[0m\u001b[31m\n",
            "\u001b[0mSuccessfully installed cached-property-1.5.2 chex-0.1.7 clu-0.0.7 colorama-0.4.6 commonmark-0.9.1 flax-0.5.3 gast-0.4.0 gdown-4.7.1 gin-0.1.6 google-auth-oauthlib-1.0.0 jax-0.4.6 jaxlib-0.4.6 keras-2.13.1 matplotlib-3.7.0 mesh-tensorflow-0.1.21 ml-collections-0.1.1 numpy-1.23.5 optax-0.1.7 portalocker-2.10.0 pyglove-0.4.4 rich-11.2.0 rouge-score-0.1.2 sacrebleu-2.4.2 scipy-1.10.0 seqio-0.0.18 seqio-nightly-0.0.18.dev20240524 t5-0.9.4 tensorboard-2.13.0 tensorflow-2.13.0 tensorflow-datasets-4.9.3 tensorflow-estimator-2.13.0 tensorflow-text-2.13.0 tf-keras-2.15.0 tfds-nightly-4.9.2.dev202308090034 typing-extensions-4.5.0\n"
          ]
        },
        {
          "output_type": "display_data",
          "data": {
            "application/vnd.colab-display-data+json": {
              "pip_warning": {
                "packages": [
                  "matplotlib",
                  "mpl_toolkits",
                  "numpy"
                ]
              },
              "id": "2eb56a64d4444c4881fcab4bf4e2efe3"
            }
          },
          "metadata": {}
        }
      ]
    },
    {
      "cell_type": "code",
      "source": [
        "!bash download.sh"
      ],
      "metadata": {
        "execution": {
          "iopub.status.busy": "2024-04-04T08:26:36.327136Z",
          "iopub.execute_input": "2024-04-04T08:26:36.327618Z",
          "iopub.status.idle": "2024-04-04T08:26:38.630036Z",
          "shell.execute_reply.started": "2024-04-04T08:26:36.327574Z",
          "shell.execute_reply": "2024-04-04T08:26:38.628818Z"
        },
        "trusted": true,
        "id": "sVl2eouf1s27",
        "outputId": "0776db84-e34e-4e3a-8da1-dbd0929e4fef",
        "colab": {
          "base_uri": "https://localhost:8080/"
        }
      },
      "execution_count": null,
      "outputs": [
        {
          "output_type": "stream",
          "name": "stdout",
          "text": [
            "Retrieving folder list\n",
            "Processing file 1qXkmmgoJ8oTYJdFV1xw0xGPpQj6SyOYA checkpoint_10999999\n",
            "Processing file 1t-r3KfU8aDbS1UHpdyM3LH21rwSCIXTz geometry.757.model\n",
            "Processing file 1mRd6J0UkeWoFUjeVB7BQi5lVNLvPBe31 geometry.757.vocab\n",
            "Retrieving folder list completed\n",
            "Building directory structure\n",
            "Building directory structure completed\n",
            "Access denied with the following error:\n",
            "\n",
            " \tCannot retrieve the public link of the file. You may need to change\n",
            "\tthe permission to 'Anyone with the link', or have had many accesses. \n",
            "\n",
            "You may still be able to access the file from the browser:\n",
            "\n",
            "\t https://drive.google.com/uc?id=1qXkmmgoJ8oTYJdFV1xw0xGPpQj6SyOYA \n",
            "\n",
            "Download ended unsuccessfully\n"
          ]
        }
      ]
    },
    {
      "cell_type": "code",
      "source": [
        "import requests\n",
        "\n",
        "def download_file(url, file_name):\n",
        "    response = requests.get(url, stream=True)\n",
        "    if response.status_code == 200:\n",
        "        with open(file_name, \"wb\") as file:\n",
        "            for chunk in response.iter_content(1024):\n",
        "                file.write(chunk)\n",
        "        print(f'{file_name} downloaded successfully.')\n",
        "    else:\n",
        "        print(f'Error downloading {file_name}: {response.status_code}')\n",
        "\n",
        "if __name__ == \"__main__\":\n",
        "    file_list = [\n",
        "        ('https://drive.usercontent.google.com/download?id=1qXkmmgoJ8oTYJdFV1xw0xGPpQj6SyOYA&authuser=0&confirm=t&uuid=8d644ce5-0f94-4c5e-81ce-5b0b30fd6845&at=APZUnTXpSmBuj_FBjkCLs5thTAjt%3A1712219204479', 'checkpoint_10999999'),\n",
        "        # Add more files here\n",
        "    ]\n",
        "\n",
        "    for url, file_name in file_list:\n",
        "        print(f'Downloading {file_name}...')\n",
        "        download_file(url, file_name)\n"
      ],
      "metadata": {
        "execution": {
          "iopub.status.busy": "2024-04-04T08:33:07.344887Z",
          "iopub.execute_input": "2024-04-04T08:33:07.345342Z",
          "iopub.status.idle": "2024-04-04T08:33:33.513193Z",
          "shell.execute_reply.started": "2024-04-04T08:33:07.345304Z",
          "shell.execute_reply": "2024-04-04T08:33:33.511982Z"
        },
        "trusted": true,
        "id": "2W_sPGZk1s27",
        "outputId": "dbe4b863-d36a-40c9-8fa7-abf4dd1030b1",
        "colab": {
          "base_uri": "https://localhost:8080/"
        }
      },
      "execution_count": null,
      "outputs": [
        {
          "output_type": "stream",
          "name": "stdout",
          "text": [
            "Downloading checkpoint_10999999...\n",
            "checkpoint_10999999 downloaded successfully.\n"
          ]
        }
      ]
    },
    {
      "cell_type": "code",
      "source": [
        "import requests\n",
        "\n",
        "def download_file(url, file_name):\n",
        "    response = requests.get(url, stream=True)\n",
        "    if response.status_code == 200:\n",
        "        with open(file_name, \"wb\") as file:\n",
        "            for chunk in response.iter_content(1024):\n",
        "                file.write(chunk)\n",
        "        print(f'{file_name} downloaded successfully.')\n",
        "    else:\n",
        "        print(f'Error downloading {file_name}: {response.status_code}')\n",
        "\n",
        "if __name__ == \"__main__\":\n",
        "    file_list = [\n",
        "        ('https://drive.usercontent.google.com/download?id=1t-r3KfU8aDbS1UHpdyM3LH21rwSCIXTz&authuser=0&confirm=t&uuid=8d644ce5-0f94-4c5e-81ce-5b0b30fd6845&at=APZUnTXpSmBuj_FBjkCLs5thTAjt%3A1712219204479', 'geometry.757.model'),\n",
        "        ('https://drive.usercontent.google.com/download?id=1mRd6J0UkeWoFUjeVB7BQi5lVNLvPBe31&authuser=0&confirm=t&uuid=8d644ce5-0f94-4c5e-81ce-5b0b30fd6845&at=APZUnTXpSmBuj_FBjkCLs5thTAjt%3A1712219204479', 'geometry.757.vocab'),\n",
        "    ]\n",
        "\n",
        "    for url, file_name in file_list:\n",
        "        print(f'Downloading {file_name}...')\n",
        "        download_file(url, file_name)\n"
      ],
      "metadata": {
        "execution": {
          "iopub.status.busy": "2024-04-04T08:34:36.039034Z",
          "iopub.execute_input": "2024-04-04T08:34:36.03947Z",
          "iopub.status.idle": "2024-04-04T08:34:36.642799Z",
          "shell.execute_reply.started": "2024-04-04T08:34:36.039434Z",
          "shell.execute_reply": "2024-04-04T08:34:36.641663Z"
        },
        "trusted": true,
        "id": "n6WYIcwu1s27",
        "outputId": "50d10e53-a965-43f0-811a-34ccc6295e80",
        "colab": {
          "base_uri": "https://localhost:8080/"
        }
      },
      "execution_count": null,
      "outputs": [
        {
          "output_type": "stream",
          "name": "stdout",
          "text": [
            "Downloading geometry.757.model...\n",
            "geometry.757.model downloaded successfully.\n",
            "Downloading geometry.757.vocab...\n",
            "geometry.757.vocab downloaded successfully.\n"
          ]
        }
      ]
    },
    {
      "cell_type": "code",
      "source": [
        "!MELIAD_PATH=meliad_lib/meliad"
      ],
      "metadata": {
        "execution": {
          "iopub.status.busy": "2024-04-04T08:34:43.364266Z",
          "iopub.execute_input": "2024-04-04T08:34:43.365217Z",
          "iopub.status.idle": "2024-04-04T08:34:44.449887Z",
          "shell.execute_reply.started": "2024-04-04T08:34:43.365171Z",
          "shell.execute_reply": "2024-04-04T08:34:44.448619Z"
        },
        "trusted": true,
        "id": "lQV98N-S1s27"
      },
      "execution_count": null,
      "outputs": []
    },
    {
      "cell_type": "code",
      "source": [
        "!mkdir -p meliad_lib/meliad"
      ],
      "metadata": {
        "execution": {
          "iopub.status.busy": "2024-04-04T08:34:51.968736Z",
          "iopub.execute_input": "2024-04-04T08:34:51.969636Z",
          "iopub.status.idle": "2024-04-04T08:34:53.05838Z",
          "shell.execute_reply.started": "2024-04-04T08:34:51.969596Z",
          "shell.execute_reply": "2024-04-04T08:34:53.056849Z"
        },
        "trusted": true,
        "id": "pInB_wcR1s28"
      },
      "execution_count": null,
      "outputs": []
    },
    {
      "cell_type": "code",
      "source": [
        "!git clone https://github.com/google-research/meliad meliad_lib/meliad"
      ],
      "metadata": {
        "execution": {
          "iopub.status.busy": "2024-04-04T08:34:57.971225Z",
          "iopub.execute_input": "2024-04-04T08:34:57.972271Z",
          "iopub.status.idle": "2024-04-04T08:34:59.740956Z",
          "shell.execute_reply.started": "2024-04-04T08:34:57.97222Z",
          "shell.execute_reply": "2024-04-04T08:34:59.73908Z"
        },
        "trusted": true,
        "id": "V5-C--pP1s28",
        "outputId": "2905e441-beef-44ad-9b19-193015f5103a",
        "colab": {
          "base_uri": "https://localhost:8080/"
        }
      },
      "execution_count": null,
      "outputs": [
        {
          "output_type": "stream",
          "name": "stdout",
          "text": [
            "Cloning into 'meliad_lib/meliad'...\n",
            "remote: Enumerating objects: 163, done.\u001b[K\n",
            "remote: Counting objects: 100% (63/63), done.\u001b[K\n",
            "remote: Compressing objects: 100% (37/37), done.\u001b[K\n",
            "remote: Total 163 (delta 38), reused 26 (delta 26), pack-reused 100\u001b[K\n",
            "Receiving objects: 100% (163/163), 1.97 MiB | 4.93 MiB/s, done.\n",
            "Resolving deltas: 100% (80/80), done.\n"
          ]
        }
      ]
    },
    {
      "cell_type": "code",
      "source": [
        "!export PYTHONPATH=$PYTHONPATH:meliad_lib/meliad"
      ],
      "metadata": {
        "execution": {
          "iopub.status.busy": "2024-04-04T08:35:09.374025Z",
          "iopub.execute_input": "2024-04-04T08:35:09.374954Z",
          "iopub.status.idle": "2024-04-04T08:35:10.487772Z",
          "shell.execute_reply.started": "2024-04-04T08:35:09.374915Z",
          "shell.execute_reply": "2024-04-04T08:35:10.486335Z"
        },
        "trusted": true,
        "id": "2ITpQ7vR1s28"
      },
      "execution_count": null,
      "outputs": []
    },
    {
      "cell_type": "code",
      "source": [
        "!DATA=ag_ckpt_vocab"
      ],
      "metadata": {
        "execution": {
          "iopub.status.busy": "2024-04-04T08:35:15.662365Z",
          "iopub.execute_input": "2024-04-04T08:35:15.66332Z",
          "iopub.status.idle": "2024-04-04T08:35:16.72777Z",
          "shell.execute_reply.started": "2024-04-04T08:35:15.663275Z",
          "shell.execute_reply": "2024-04-04T08:35:16.726489Z"
        },
        "trusted": true,
        "id": "reMIZsJz1s28"
      },
      "execution_count": null,
      "outputs": []
    },
    {
      "cell_type": "code",
      "source": [
        "!DDAR_ARGS=(--defs_file=$(pwd)/defs.txt, --rules_file=$(pwd)/rules.txt);"
      ],
      "metadata": {
        "execution": {
          "iopub.status.busy": "2024-04-04T08:35:43.286058Z",
          "iopub.execute_input": "2024-04-04T08:35:43.286992Z",
          "iopub.status.idle": "2024-04-04T08:35:44.36521Z",
          "shell.execute_reply.started": "2024-04-04T08:35:43.28695Z",
          "shell.execute_reply": "2024-04-04T08:35:44.363897Z"
        },
        "trusted": true,
        "id": "LxeHGTLI1s28"
      },
      "execution_count": null,
      "outputs": []
    },
    {
      "cell_type": "code",
      "source": [
        "BATCH_SIZE=2\n",
        "BEAM_SIZE=2\n",
        "DEPTH=2\n",
        "\n",
        "!SEARCH_ARGS=(--beam_size=2, --search_depth=2)"
      ],
      "metadata": {
        "execution": {
          "iopub.status.busy": "2024-04-04T08:36:06.424483Z",
          "iopub.execute_input": "2024-04-04T08:36:06.425522Z",
          "iopub.status.idle": "2024-04-04T08:36:07.514831Z",
          "shell.execute_reply.started": "2024-04-04T08:36:06.425477Z",
          "shell.execute_reply": "2024-04-04T08:36:07.513602Z"
        },
        "trusted": true,
        "id": "5tFgC12E1s28"
      },
      "execution_count": null,
      "outputs": []
    },
    {
      "cell_type": "code",
      "source": [
        "!LM_ARGS=(--ckpt_path=$DATA --vocab_path=$DATA/geometry.757.model --gin_search_paths=$MELIAD_PATH/transformer/configs,$(pwd) --gin_file=base_htrans.gin --gin_file=size/medium_150M.gin --gin_file=options/positions_t5.gin --gin_file=options/lr_cosine_decay.gin --gin_file=options/seq_1024_nocache.gin --gin_file=geometry_150M_generate.gin --gin_param=DecoderOnlyLanguageModelGenerate.output_token_losses=True --gin_param=TransformerTaskConfig.batch_size=$BATCH_SIZE --gin_param=TransformerTaskConfig.sequence_length=128 --gin_param=Trainer.restore_state_variables=False);"
      ],
      "metadata": {
        "execution": {
          "iopub.status.busy": "2024-04-04T08:36:51.932371Z",
          "iopub.execute_input": "2024-04-04T08:36:51.933254Z",
          "iopub.status.idle": "2024-04-04T08:36:53.012846Z",
          "shell.execute_reply.started": "2024-04-04T08:36:51.933186Z",
          "shell.execute_reply": "2024-04-04T08:36:53.011549Z"
        },
        "trusted": true,
        "id": "TgmHHgjT1s29"
      },
      "execution_count": null,
      "outputs": []
    },
    {
      "cell_type": "code",
      "source": [
        "with open(\"numericals.py\", \"r\") as f:\n",
        "    content = f.read()\n",
        "\n",
        "modified_content = content.replace(\"TkAgg\", \"Agg\")\n",
        "\n",
        "with open(\"numericals.py\", \"w\") as f:\n",
        "    f.write(modified_content)  # Write once after all modifications\n"
      ],
      "metadata": {
        "execution": {
          "iopub.status.busy": "2024-04-04T08:39:55.100994Z",
          "iopub.execute_input": "2024-04-04T08:39:55.101468Z",
          "iopub.status.idle": "2024-04-04T08:39:55.109407Z",
          "shell.execute_reply.started": "2024-04-04T08:39:55.10142Z",
          "shell.execute_reply": "2024-04-04T08:39:55.108241Z"
        },
        "trusted": true,
        "id": "qTrmvama1s29"
      },
      "execution_count": null,
      "outputs": []
    },
    {
      "cell_type": "code",
      "source": [
        "with open(\"decoder_stack.py\", \"r\") as f:\n",
        "    content = f.read()\n",
        "\n",
        "modified_content = content.replace(\"from transformer\", \"from meliad_lib.meliad.transformer\")\n",
        "\n",
        "with open(\"decoder_stack.py\", \"w\") as f:\n",
        "    f.write(modified_content)  # Write once after all modifications\n"
      ],
      "metadata": {
        "execution": {
          "iopub.status.busy": "2024-04-04T08:45:29.355991Z",
          "iopub.execute_input": "2024-04-04T08:45:29.356991Z",
          "iopub.status.idle": "2024-04-04T08:45:29.36667Z",
          "shell.execute_reply.started": "2024-04-04T08:45:29.356943Z",
          "shell.execute_reply": "2024-04-04T08:45:29.365561Z"
        },
        "trusted": true,
        "id": "kajmrQCE1s29"
      },
      "execution_count": null,
      "outputs": []
    },
    {
      "cell_type": "code",
      "source": [
        "with open(\"meliad_lib/meliad/transformer/decoder_stack.py\", \"r\") as f:\n",
        "    content = f.read()\n",
        "\n",
        "modified_content = content.replace(\"from transformer\", \"from meliad_lib.meliad.transformer\")\n",
        "\n",
        "with open(\"meliad_lib/meliad/transformer/decoder_stack.py\", \"w\") as f:\n",
        "    f.write(modified_content)  # Write once after all modifications\n"
      ],
      "metadata": {
        "execution": {
          "iopub.status.busy": "2024-04-04T08:46:14.498429Z",
          "iopub.execute_input": "2024-04-04T08:46:14.498856Z",
          "iopub.status.idle": "2024-04-04T08:46:14.506794Z",
          "shell.execute_reply.started": "2024-04-04T08:46:14.49882Z",
          "shell.execute_reply": "2024-04-04T08:46:14.50567Z"
        },
        "trusted": true,
        "id": "X2dLOG1N1s29"
      },
      "execution_count": null,
      "outputs": []
    },
    {
      "cell_type": "code",
      "source": [
        "with open(\"meliad_lib/meliad/transformer/attention.py\", \"r\") as f:\n",
        "    content = f.read()\n",
        "\n",
        "modified_content = content.replace(\"from transformer\", \"from meliad_lib.meliad.transformer\")\n",
        "\n",
        "with open(\"meliad_lib/meliad/transformer/attention.py\", \"w\") as f:\n",
        "    f.write(modified_content)  # Write once after all modifications\n"
      ],
      "metadata": {
        "execution": {
          "iopub.status.busy": "2024-04-04T08:46:35.035602Z",
          "iopub.execute_input": "2024-04-04T08:46:35.036018Z",
          "iopub.status.idle": "2024-04-04T08:46:35.044195Z",
          "shell.execute_reply.started": "2024-04-04T08:46:35.035977Z",
          "shell.execute_reply": "2024-04-04T08:46:35.0429Z"
        },
        "trusted": true,
        "id": "f59ITXWB1s2-"
      },
      "execution_count": null,
      "outputs": []
    },
    {
      "cell_type": "code",
      "source": [
        "with open(\"meliad_lib/meliad/transformer/transformer_layer.py\", \"r\") as f:\n",
        "    content = f.read()\n",
        "\n",
        "modified_content = content.replace(\"from transformer\", \"from meliad_lib.meliad.transformer\")\n",
        "\n",
        "with open(\"meliad_lib/meliad/transformer/transformer_layer.py\", \"w\") as f:\n",
        "    f.write(modified_content)  # Write once after all modifications\n"
      ],
      "metadata": {
        "execution": {
          "iopub.status.busy": "2024-04-04T08:46:52.629089Z",
          "iopub.execute_input": "2024-04-04T08:46:52.629554Z",
          "iopub.status.idle": "2024-04-04T08:46:52.637261Z",
          "shell.execute_reply.started": "2024-04-04T08:46:52.629515Z",
          "shell.execute_reply": "2024-04-04T08:46:52.636052Z"
        },
        "trusted": true,
        "id": "WRMccXzX1s2-"
      },
      "execution_count": null,
      "outputs": []
    },
    {
      "cell_type": "code",
      "source": [
        "with open(\"meliad_lib/meliad/transformer/memory_factory.py\", \"r\") as f:\n",
        "    content = f.read()\n",
        "\n",
        "modified_content = content.replace(\"from transformer\", \"from meliad_lib.meliad.transformer\")\n",
        "\n",
        "with open(\"meliad_lib/meliad/transformer/memory_factory.py\", \"w\") as f:\n",
        "    f.write(modified_content)  # Write once after all modifications\n"
      ],
      "metadata": {
        "execution": {
          "iopub.status.busy": "2024-04-04T08:47:15.015877Z",
          "iopub.execute_input": "2024-04-04T08:47:15.01631Z",
          "iopub.status.idle": "2024-04-04T08:47:15.023566Z",
          "shell.execute_reply.started": "2024-04-04T08:47:15.01627Z",
          "shell.execute_reply": "2024-04-04T08:47:15.022432Z"
        },
        "trusted": true,
        "id": "2DNodEIF1s2-"
      },
      "execution_count": null,
      "outputs": []
    },
    {
      "cell_type": "code",
      "source": [
        "with open(\"meliad_lib/meliad/transformer/position_fourier.py\", \"r\") as f:\n",
        "    content = f.read()\n",
        "\n",
        "modified_content = content.replace(\"from transformer\", \"from meliad_lib.meliad.transformer\")\n",
        "\n",
        "with open(\"meliad_lib/meliad/transformer/position_fourier.py\", \"w\") as f:\n",
        "    f.write(modified_content)  # Write once after all modifications\n"
      ],
      "metadata": {
        "execution": {
          "iopub.status.busy": "2024-04-04T08:47:35.03573Z",
          "iopub.execute_input": "2024-04-04T08:47:35.036536Z",
          "iopub.status.idle": "2024-04-04T08:47:35.043852Z",
          "shell.execute_reply.started": "2024-04-04T08:47:35.036493Z",
          "shell.execute_reply": "2024-04-04T08:47:35.042792Z"
        },
        "trusted": true,
        "id": "UbOcrAPG1s2-"
      },
      "execution_count": null,
      "outputs": []
    },
    {
      "cell_type": "code",
      "source": [
        "with open(\"meliad_lib/meliad/transformer/position_t5.py\", \"r\") as f:\n",
        "    content = f.read()\n",
        "\n",
        "modified_content = content.replace(\"from transformer\", \"from meliad_lib.meliad.transformer\")\n",
        "\n",
        "with open(\"meliad_lib/meliad/transformer/position_t5.py\", \"w\") as f:\n",
        "    f.write(modified_content)  # Write once after all modifications\n"
      ],
      "metadata": {
        "execution": {
          "iopub.status.busy": "2024-04-04T08:47:51.665302Z",
          "iopub.execute_input": "2024-04-04T08:47:51.666282Z",
          "iopub.status.idle": "2024-04-04T08:47:51.673533Z",
          "shell.execute_reply.started": "2024-04-04T08:47:51.666243Z",
          "shell.execute_reply": "2024-04-04T08:47:51.672302Z"
        },
        "trusted": true,
        "id": "aT8A-j761s2-"
      },
      "execution_count": null,
      "outputs": []
    },
    {
      "cell_type": "code",
      "source": [
        "with open(\"meliad_lib/meliad/transformer/transformer_base.py\", \"r\") as f:\n",
        "    content = f.read()\n",
        "\n",
        "modified_content = content.replace(\"from transformer\", \"from meliad_lib.meliad.transformer\")\n",
        "\n",
        "with open(\"meliad_lib/meliad/transformer/transformer_base.py\", \"w\") as f:\n",
        "    f.write(modified_content)  # Write once after all modifications\n"
      ],
      "metadata": {
        "execution": {
          "iopub.status.busy": "2024-04-04T08:48:11.187483Z",
          "iopub.execute_input": "2024-04-04T08:48:11.187926Z",
          "iopub.status.idle": "2024-04-04T08:48:11.195302Z",
          "shell.execute_reply.started": "2024-04-04T08:48:11.187888Z",
          "shell.execute_reply": "2024-04-04T08:48:11.194184Z"
        },
        "trusted": true,
        "id": "BkulLgoc1s2-"
      },
      "execution_count": null,
      "outputs": []
    },
    {
      "cell_type": "code",
      "source": [
        "with open(\"transformer_layer.py\", \"r\") as f:\n",
        "    content = f.read()\n",
        "\n",
        "modified_content = content.replace(\"from transformer\", \"from meliad_lib.meliad.transformer\")\n",
        "\n",
        "with open(\"transformer_layer.py\", \"w\") as f:\n",
        "    f.write(modified_content)  # Write once after all modifications\n"
      ],
      "metadata": {
        "execution": {
          "iopub.status.busy": "2024-04-04T08:48:31.280187Z",
          "iopub.execute_input": "2024-04-04T08:48:31.280662Z",
          "iopub.status.idle": "2024-04-04T08:48:31.288498Z",
          "shell.execute_reply.started": "2024-04-04T08:48:31.280622Z",
          "shell.execute_reply": "2024-04-04T08:48:31.287283Z"
        },
        "trusted": true,
        "id": "wQv6YYsv1s2-"
      },
      "execution_count": null,
      "outputs": []
    },
    {
      "cell_type": "code",
      "source": [
        "with open(\"models.py\", \"r\") as f:\n",
        "    content = f.read()\n",
        "\n",
        "modified_content = content.replace(\"from transformer\", \"from meliad_lib.meliad.transformer\")\n",
        "\n",
        "with open(\"models.py\", \"w\") as f:\n",
        "    f.write(modified_content)  # Write once after all modifications\n"
      ],
      "metadata": {
        "execution": {
          "iopub.status.busy": "2024-04-04T08:48:48.303189Z",
          "iopub.execute_input": "2024-04-04T08:48:48.304183Z",
          "iopub.status.idle": "2024-04-04T08:48:48.311038Z",
          "shell.execute_reply.started": "2024-04-04T08:48:48.304142Z",
          "shell.execute_reply": "2024-04-04T08:48:48.310016Z"
        },
        "trusted": true,
        "id": "drsK4HuC1s2-"
      },
      "execution_count": null,
      "outputs": []
    },
    {
      "cell_type": "code",
      "source": [
        "with open(\"models.py\", \"r\") as f:\n",
        "    content = f.read()\n",
        "\n",
        "modified_content = content.replace(\"from transformer\", \"from meliad_lib.meliad.transformer\")\n",
        "\n",
        "with open(\"models.py\", \"w\") as f:\n",
        "    f.write(modified_content)  # Write once after all modifications\n"
      ],
      "metadata": {
        "id": "chWUeS_t1s2_"
      },
      "execution_count": null,
      "outputs": []
    },
    {
      "cell_type": "code",
      "source": [
        "with open(\"meliad_lib/meliad/transformer/models.py\", \"r\") as f:\n",
        "    content = f.read()\n",
        "\n",
        "modified_content = content.replace(\"import  metrics_summary\", \"from meliad_lib.meliad import metrics_summary\")\n",
        "\n",
        "with open(\"meliad_lib/meliad/transformer/models.py\", \"w\") as f:\n",
        "    f.write(modified_content)  # Write once after all modifications\n"
      ],
      "metadata": {
        "execution": {
          "iopub.status.busy": "2024-04-04T08:51:13.73324Z",
          "iopub.execute_input": "2024-04-04T08:51:13.73369Z",
          "iopub.status.idle": "2024-04-04T08:51:13.741445Z",
          "shell.execute_reply.started": "2024-04-04T08:51:13.733649Z",
          "shell.execute_reply": "2024-04-04T08:51:13.740047Z"
        },
        "trusted": true,
        "id": "yojHwPEI1s2_"
      },
      "execution_count": null,
      "outputs": []
    },
    {
      "cell_type": "code",
      "source": [
        "with open(\"meliad_lib/meliad/transformer/models.py\", \"r\") as f:\n",
        "    content = f.read()\n",
        "\n",
        "modified_content = content.replace(\"from transformer\", \"from meliad_lib.meliad.transformer\")\n",
        "\n",
        "with open(\"meliad_lib/meliad/transformer/models.py\", \"w\") as f:\n",
        "    f.write(modified_content)  # Write once after all modifications\n"
      ],
      "metadata": {
        "execution": {
          "iopub.status.busy": "2024-04-04T08:51:41.480372Z",
          "iopub.execute_input": "2024-04-04T08:51:41.480882Z",
          "iopub.status.idle": "2024-04-04T08:51:41.489486Z",
          "shell.execute_reply.started": "2024-04-04T08:51:41.480838Z",
          "shell.execute_reply": "2024-04-04T08:51:41.488235Z"
        },
        "trusted": true,
        "id": "rSH99uwk1s2_"
      },
      "execution_count": null,
      "outputs": []
    },
    {
      "cell_type": "code",
      "source": [
        "with open(\"meliad_lib/meliad/transformer/text_dataset.py\", \"r\") as f:\n",
        "    content = f.read()\n",
        "\n",
        "modified_content = content.replace(\"from transformer\", \"from meliad_lib.meliad.transformer\")\n",
        "\n",
        "with open(\"meliad_lib/meliad/transformer/text_dataset.py\", \"w\") as f:\n",
        "    f.write(modified_content)  # Write once after all modifications\n"
      ],
      "metadata": {
        "execution": {
          "iopub.status.busy": "2024-04-04T08:52:13.749439Z",
          "iopub.execute_input": "2024-04-04T08:52:13.749848Z",
          "iopub.status.idle": "2024-04-04T08:52:13.75729Z",
          "shell.execute_reply.started": "2024-04-04T08:52:13.749814Z",
          "shell.execute_reply": "2024-04-04T08:52:13.75629Z"
        },
        "trusted": true,
        "id": "DkEpqlkh1s2_"
      },
      "execution_count": null,
      "outputs": []
    },
    {
      "cell_type": "code",
      "source": [
        "with open(\"lm_inference.py\", \"r\") as f:\n",
        "    content = f.read()\n",
        "\n",
        "modified_content = content.replace(\"from transformer\", \"from meliad_lib.meliad.transformer\")\n",
        "\n",
        "with open(\"lm_inference.py\", \"w\") as f:\n",
        "    f.write(modified_content)  # Write once after all modifications\n"
      ],
      "metadata": {
        "execution": {
          "iopub.status.busy": "2024-04-04T08:52:45.788649Z",
          "iopub.execute_input": "2024-04-04T08:52:45.789462Z",
          "iopub.status.idle": "2024-04-04T08:52:45.796294Z",
          "shell.execute_reply.started": "2024-04-04T08:52:45.789419Z",
          "shell.execute_reply": "2024-04-04T08:52:45.795187Z"
        },
        "trusted": true,
        "id": "x0aMcGUV1s2_"
      },
      "execution_count": null,
      "outputs": []
    },
    {
      "cell_type": "code",
      "source": [
        "with open(\"meliad_lib/meliad/transformer/inference_utils.py\", \"r\") as f:\n",
        "    content = f.read()\n",
        "\n",
        "modified_content = content.replace(\"import training_loop\", \"from meliad_lib.meliad import training_loop\")\n",
        "\n",
        "with open(\"meliad_lib/meliad/transformer/inference_utils.py\", \"w\") as f:\n",
        "    f.write(modified_content)  # Write once after all modifications\n"
      ],
      "metadata": {
        "execution": {
          "iopub.status.busy": "2024-04-04T08:54:19.296573Z",
          "iopub.execute_input": "2024-04-04T08:54:19.297637Z",
          "iopub.status.idle": "2024-04-04T08:54:19.305144Z",
          "shell.execute_reply.started": "2024-04-04T08:54:19.297591Z",
          "shell.execute_reply": "2024-04-04T08:54:19.303975Z"
        },
        "trusted": true,
        "id": "tcehVPtW1s3A"
      },
      "execution_count": null,
      "outputs": []
    },
    {
      "cell_type": "code",
      "source": [
        "with open(\"meliad_lib/meliad/transformer/inference_utils.py\", \"r\") as f:\n",
        "    content = f.read()\n",
        "\n",
        "modified_content = content.replace(\"import  training_loop\", \"from meliad_lib.meliad import training_loop\")\n",
        "\n",
        "with open(\"meliad_lib/meliad/transformer/inference_utils.py\", \"w\") as f:\n",
        "    f.write(modified_content)  # Write once after all modifications\n"
      ],
      "metadata": {
        "execution": {
          "iopub.status.busy": "2024-04-04T08:54:45.301439Z",
          "iopub.execute_input": "2024-04-04T08:54:45.301894Z",
          "iopub.status.idle": "2024-04-04T08:54:45.310789Z",
          "shell.execute_reply.started": "2024-04-04T08:54:45.301856Z",
          "shell.execute_reply": "2024-04-04T08:54:45.309705Z"
        },
        "trusted": true,
        "id": "aQWmUykA1s3A"
      },
      "execution_count": null,
      "outputs": []
    },
    {
      "cell_type": "code",
      "source": [
        "with open(\"meliad_lib/meliad/training_loop.py\", \"r\") as f:\n",
        "    content = f.read()\n",
        "\n",
        "modified_content = content.replace(\"import  metrics_summary\", \"from meliad_lib.meliad import metrics_summary\")\n",
        "\n",
        "with open(\"meliad_lib/meliad/training_loop.py\", \"w\") as f:\n",
        "    f.write(modified_content)  # Write once after all modifications\n"
      ],
      "metadata": {
        "execution": {
          "iopub.status.busy": "2024-04-04T08:55:25.65398Z",
          "iopub.execute_input": "2024-04-04T08:55:25.65439Z",
          "iopub.status.idle": "2024-04-04T08:55:25.662134Z",
          "shell.execute_reply.started": "2024-04-04T08:55:25.654358Z",
          "shell.execute_reply": "2024-04-04T08:55:25.660927Z"
        },
        "trusted": true,
        "id": "pPYh8glP1s3A"
      },
      "execution_count": null,
      "outputs": []
    },
    {
      "cell_type": "code",
      "source": [
        "with open(\"meliad_lib/meliad/training_loop.py\", \"r\") as f:\n",
        "    content = f.read()\n",
        "\n",
        "modified_content = content.replace(\"import  optimizer_config\", \"from meliad_lib.meliad import optimizer_config\")\n",
        "\n",
        "with open(\"meliad_lib/meliad/training_loop.py\", \"w\") as f:\n",
        "    f.write(modified_content)  # Write once after all modifications\n"
      ],
      "metadata": {
        "execution": {
          "iopub.status.busy": "2024-04-04T08:56:06.643567Z",
          "iopub.execute_input": "2024-04-04T08:56:06.644011Z",
          "iopub.status.idle": "2024-04-04T08:56:06.651882Z",
          "shell.execute_reply.started": "2024-04-04T08:56:06.643973Z",
          "shell.execute_reply": "2024-04-04T08:56:06.650908Z"
        },
        "trusted": true,
        "id": "Xi3v7Iqf1s3A"
      },
      "execution_count": null,
      "outputs": []
    },
    {
      "cell_type": "code",
      "source": [
        "with open(\"meliad_lib/meliad/training_loop.py\", \"r\") as f:\n",
        "    content = f.read()\n",
        "\n",
        "modified_content = content.replace(\"import  training_task\", \"from meliad_lib.meliad import training_task\")\n",
        "\n",
        "with open(\"meliad_lib/meliad/training_loop.py\", \"w\") as f:\n",
        "    f.write(modified_content)  # Write once after all modifications\n"
      ],
      "metadata": {
        "execution": {
          "iopub.status.busy": "2024-04-04T08:56:43.396553Z",
          "iopub.execute_input": "2024-04-04T08:56:43.396985Z",
          "iopub.status.idle": "2024-04-04T08:56:43.404804Z",
          "shell.execute_reply.started": "2024-04-04T08:56:43.396947Z",
          "shell.execute_reply": "2024-04-04T08:56:43.403749Z"
        },
        "trusted": true,
        "id": "5GQTFMlb1s3A"
      },
      "execution_count": null,
      "outputs": []
    },
    {
      "cell_type": "code",
      "source": [
        "with open(\"meliad_lib/meliad/training_task.py\", \"r\") as f:\n",
        "    content = f.read()\n",
        "\n",
        "modified_content = content.replace(\"import  metrics_summary\", \"from meliad_lib.meliad import metrics_summary\")\n",
        "\n",
        "with open(\"meliad_lib/meliad/training_task.py\", \"w\") as f:\n",
        "    f.write(modified_content)\n"
      ],
      "metadata": {
        "execution": {
          "iopub.status.busy": "2024-04-04T08:57:32.330569Z",
          "iopub.execute_input": "2024-04-04T08:57:32.331035Z",
          "iopub.status.idle": "2024-04-04T08:57:32.338426Z",
          "shell.execute_reply.started": "2024-04-04T08:57:32.330998Z",
          "shell.execute_reply": "2024-04-04T08:57:32.337409Z"
        },
        "trusted": true,
        "id": "YBq7Nmat1s3B"
      },
      "execution_count": null,
      "outputs": []
    },
    {
      "cell_type": "code",
      "source": [
        "with open(\"meliad_lib/meliad/transformer/inference_utils.py\", \"r\") as f:\n",
        "    content = f.read()\n",
        "\n",
        "modified_content = content.replace(\"from transformer\", \"from meliad_lib.meliad.transformer\")\n",
        "\n",
        "with open(\"meliad_lib/meliad/transformer/inference_utils.py\", \"w\") as f:\n",
        "    f.write(modified_content)\n"
      ],
      "metadata": {
        "execution": {
          "iopub.status.busy": "2024-04-04T08:58:32.172381Z",
          "iopub.execute_input": "2024-04-04T08:58:32.173223Z",
          "iopub.status.idle": "2024-04-04T08:58:32.180169Z",
          "shell.execute_reply.started": "2024-04-04T08:58:32.173168Z",
          "shell.execute_reply": "2024-04-04T08:58:32.179087Z"
        },
        "trusted": true,
        "id": "h0Kj2Ur81s3B"
      },
      "execution_count": null,
      "outputs": []
    },
    {
      "cell_type": "code",
      "source": [
        "!python -m alphageometry --alsologtostderr --problems_file=$(pwd)/imo_ag_30.txt --problem_name=translated_imo_2000_p1 --mode=ddar \"${DDAR_ARGS[@]}\"\n"
      ],
      "metadata": {
        "execution": {
          "iopub.status.busy": "2024-04-04T08:58:33.38453Z",
          "iopub.execute_input": "2024-04-04T08:58:33.384931Z",
          "iopub.status.idle": "2024-04-04T08:59:37.318577Z",
          "shell.execute_reply.started": "2024-04-04T08:58:33.384896Z",
          "shell.execute_reply": "2024-04-04T08:59:37.317424Z"
        },
        "trusted": true,
        "id": "utdm1qkj1s3B",
        "outputId": "590f31db-62cf-40ed-e38e-ad70b53f8ebe",
        "colab": {
          "base_uri": "https://localhost:8080/"
        }
      },
      "execution_count": null,
      "outputs": [
        {
          "output_type": "stream",
          "name": "stdout",
          "text": [
            "/usr/local/lib/python3.10/dist-packages/flax/struct.py:132: FutureWarning: jax.tree_util.register_keypaths is deprecated, and will be removed in a future release. Please use `register_pytree_with_keys()` instead.\n",
            "  jax.tree_util.register_keypaths(data_clz, keypaths)\n",
            "/usr/local/lib/python3.10/dist-packages/flax/struct.py:132: FutureWarning: jax.tree_util.register_keypaths is deprecated, and will be removed in a future release. Please use `register_pytree_with_keys()` instead.\n",
            "  jax.tree_util.register_keypaths(data_clz, keypaths)\n",
            "/usr/local/lib/python3.10/dist-packages/flax/struct.py:132: FutureWarning: jax.tree_util.register_keypaths is deprecated, and will be removed in a future release. Please use `register_pytree_with_keys()` instead.\n",
            "  jax.tree_util.register_keypaths(data_clz, keypaths)\n",
            "2024-06-25 19:26:46.008944: W tensorflow/compiler/tf2tensorrt/utils/py_utils.cc:38] TF-TRT Warning: Could not find TensorRT\n",
            "/usr/local/lib/python3.10/dist-packages/flax/struct.py:132: FutureWarning: jax.tree_util.register_keypaths is deprecated, and will be removed in a future release. Please use `register_pytree_with_keys()` instead.\n",
            "  jax.tree_util.register_keypaths(data_clz, keypaths)\n",
            "/usr/local/lib/python3.10/dist-packages/flax/struct.py:132: FutureWarning: jax.tree_util.register_keypaths is deprecated, and will be removed in a future release. Please use `register_pytree_with_keys()` instead.\n",
            "  jax.tree_util.register_keypaths(data_clz, keypaths)\n",
            "/usr/local/lib/python3.10/dist-packages/flax/struct.py:132: FutureWarning: jax.tree_util.register_keypaths is deprecated, and will be removed in a future release. Please use `register_pytree_with_keys()` instead.\n",
            "  jax.tree_util.register_keypaths(data_clz, keypaths)\n",
            "2024-06-25 19:26:49.830331: W tensorflow/core/common_runtime/gpu/gpu_device.cc:1960] Cannot dlopen some GPU libraries. Please make sure the missing libraries mentioned above are installed properly if you would like to use GPU. Follow the guide at https://www.tensorflow.org/install/gpu for how to download and setup the required libraries for your platform.\n",
            "Skipping registering GPU devices...\n",
            "I0625 19:26:50.011146 134753497735168 graph.py:498] translated_imo_2000_p1\n",
            "I0625 19:26:50.011366 134753497735168 graph.py:499] a b = segment a b; g1 = on_tline g1 a a b; g2 = on_tline g2 b b a; m = on_circle m g1 a, on_circle m g2 b; n = on_circle n g1 a, on_circle n g2 b; c = on_pline c m a b, on_circle c g1 a; d = on_pline d m a b, on_circle d g2 b; e = on_line e a c, on_line e b d; p = on_line p a n, on_line p c d; q = on_line q b n, on_line q c d ? cong e p e q\n",
            "I0625 19:26:51.237809 134753497735168 ddar.py:60] Depth 1/1000 time = 1.1849524974822998\n",
            "I0625 19:26:55.276662 134753497735168 ddar.py:60] Depth 2/1000 time = 4.038646459579468\n",
            "I0625 19:27:00.464688 134753497735168 ddar.py:60] Depth 3/1000 time = 5.187803506851196\n",
            "I0625 19:27:07.739668 134753497735168 ddar.py:60] Depth 4/1000 time = 7.27475118637085\n",
            "I0625 19:27:17.393821 134753497735168 ddar.py:60] Depth 5/1000 time = 9.653904438018799\n",
            "I0625 19:27:17.430512 134753497735168 alphageometry.py:191] \n",
            "==========================\n",
            " * From theorem premises:\n",
            "A B G1 G2 M N C D E P Q : Points\n",
            "AG_1 ⟂ AB [00]\n",
            "BA ⟂ G_2B [01]\n",
            "G_1M = G_1A [02]\n",
            "G_2M = G_2B [03]\n",
            "G_2N = G_2B [04]\n",
            "G_1N = G_1A [05]\n",
            "∠MAN = ∠MAN [06]\n",
            "G_1C = G_1A [07]\n",
            "CM ∥ AB [08]\n",
            "∠NAC = ∠NAC [09]\n",
            "G_2D = G_2B [10]\n",
            "DM ∥ AB [11]\n",
            "∠DBN = ∠DBN [12]\n",
            "E,B,D are collinear [13]\n",
            "E,A,C are collinear [14]\n",
            "P,A,N are collinear [15]\n",
            "P,C,D are collinear [16]\n",
            "N,B,Q are collinear [17]\n",
            "C,D,Q are collinear [18]\n",
            "DQ:MQ = DQ:MQ [19]\n",
            "\n",
            " * Auxiliary Constructions:\n",
            ": Points\n",
            "\n",
            "\n",
            " * Proof steps:\n",
            "001. G_2N = G_2B [04] & G_2D = G_2B [10] ⇒  G_2 is the circumcenter of \\Delta BND [20]\n",
            "002. G_2 is the circumcenter of \\Delta BND [20] & G_2B ⟂ BA [01] ⇒  ∠DBA = ∠DNB [21]\n",
            "003. G_2 is the circumcenter of \\Delta BND [20] & G_2B ⟂ BA [01] ⇒  ∠NBA = ∠NDB [22]\n",
            "004. G_1N = G_1A [05] & G_1C = G_1A [07] & G_1M = G_1A [02] ⇒  N,A,M,C are concyclic [23]\n",
            "005. N,A,M,C are concyclic [23] ⇒  ∠NAC = ∠NMC [24]\n",
            "006. G_2N = G_2B [04] & G_2D = G_2B [10] & G_2M = G_2B [03] ⇒  N,B,D,M are concyclic [25]\n",
            "007. N,B,D,M are concyclic [25] ⇒  ∠NBD = ∠NMD [26]\n",
            "008. N,B,D,M are concyclic [25] ⇒  ∠BNM = ∠BDM [27]\n",
            "009. E,B,D are collinear [13] & E,A,C are collinear [14] & ∠NAC = ∠NMC [24] & CM ∥ AB [08] & ∠NBD = ∠NMD [26] & DM ∥ AB [11] ⇒  ∠NBE = ∠NAE [28]\n",
            "010. ∠NBE = ∠NAE [28] ⇒  E,N,A,B are concyclic [29]\n",
            "011. E,N,A,B are concyclic [29] ⇒  ∠ENA = ∠EBA [30]\n",
            "012. E,N,A,B are concyclic [29] ⇒  ∠ENB = ∠EAB [31]\n",
            "013. P,A,N are collinear [15] & B,N,Q are collinear [17] & ∠DBA = ∠DNB [21] & ∠ENA = ∠EBA [30] & E,B,D are collinear [13] ⇒  ∠ENP = ∠DNQ [32]\n",
            "014. DM ∥ AB [11] & CM ∥ AB [08] ⇒  MC ∥ MD [33]\n",
            "015. MC ∥ MD [33] ⇒  C,M,D are collinear [34]\n",
            "016. G_1M = G_1A [02] & G_1N = G_1A [05] ⇒  G_1 is the circumcenter of \\Delta AMN [35]\n",
            "017. G_1 is the circumcenter of \\Delta AMN [35] & AG_1 ⟂ AB [00] ⇒  ∠MAB = ∠MNA [36]\n",
            "018. C,M,D are collinear [34] & P,C,D are collinear [16] & ∠MNA = ∠MAB [36] & DM ∥ AB [11] ⇒  ∠MNA = ∠AMP [37]\n",
            "019. P,A,N are collinear [15] & ∠MAN = ∠MAN [06] ⇒  ∠MAN = ∠MAP [38]\n",
            "020. ∠MNA = ∠AMP [37] & ∠MAN = ∠MAP [38] (Similar Triangles)⇒  AM:AN = PA:AM [39]\n",
            "021. G_1M = G_1A [02] & G_1C = G_1A [07] ⇒  G_1 is the circumcenter of \\Delta AMC [40]\n",
            "022. G_1 is the circumcenter of \\Delta AMC [40] & AG_1 ⟂ AB [00] ⇒  ∠BAM = ∠ACM [41]\n",
            "023. E,A,C are collinear [14] & ∠BAM = ∠ACM [41] & CM ∥ AB [08] ⇒  ∠MAB = ∠BAE [42]\n",
            "024. G_2D = G_2B [10] & G_2M = G_2B [03] ⇒  G_2 is the circumcenter of \\Delta BDM [43]\n",
            "025. G_2 is the circumcenter of \\Delta BDM [43] & G_2B ⟂ BA [01] ⇒  ∠ABD = ∠BMD [44]\n",
            "026. E,B,D are collinear [13] & ∠ABD = ∠BMD [44] & DM ∥ AB [11] ⇒  ∠ABM = ∠EBA [45]\n",
            "027. ∠MAB = ∠BAE [42] & ∠ABM = ∠EBA [45] (Similar Triangles)⇒  AM = AE [46]\n",
            "028. ∠MAB = ∠BAE [42] & ∠ABM = ∠EBA [45] (Similar Triangles)⇒  BM = BE [47]\n",
            "029. PA:AM = AM:AN [39] & EA = AM [46] ⇒  PA:EA = EA:AN [48]\n",
            "030. P,A,N are collinear [15] & E,A,C are collinear [14] & ∠NAC = ∠NAC [09] ⇒  ∠PAE = ∠NAE [49]\n",
            "031. PA:EA = EA:AN [48] & ∠PAE = ∠NAE [49] (Similar Triangles)⇒  ∠APE = ∠NEA [50]\n",
            "032. P,A,N are collinear [15] & C,D,Q are collinear [18] & B,N,Q are collinear [17] & ∠ENB = ∠EAB [31] & E,A,C are collinear [14] & ∠APE = ∠NEA [50] & DM ∥ AB [11] & C,M,D are collinear [34] ⇒  ∠EPN = ∠DQN [51]\n",
            "033. ∠ENP = ∠DNQ [32] & ∠EPN = ∠DQN [51] (Similar Triangles)⇒  EN:ND = EP:DQ [52]\n",
            "034. ∠DBA = ∠DNB [21] & ∠BNM = ∠BDM [27] & DM ∥ AB [11] ⇒  ∠BNM = ∠DNB [53]\n",
            "035. B,N,Q are collinear [17] & ∠BNM = ∠DNB [53] ⇒  ∠BNM = ∠DNQ [54]\n",
            "036. G_2N = G_2B [04] & G_2M = G_2B [03] ⇒  G_2 is the circumcenter of \\Delta BNM [55]\n",
            "037. G_2 is the circumcenter of \\Delta BNM [55] & G_2B ⟂ BA [01] ⇒  ∠ABN = ∠BMN [56]\n",
            "038. C,D,Q are collinear [18] & B,N,Q are collinear [17] & ∠BMN = ∠ABN [56] & DM ∥ AB [11] & C,M,D are collinear [34] ⇒  ∠BMN = ∠DQN [57]\n",
            "039. ∠BNM = ∠DNQ [54] & ∠BMN = ∠DQN [57] (Similar Triangles)⇒  BN:DN = BM:DQ [58]\n",
            "040. N,B,D,M are concyclic [25] & ∠BND = ∠MNB [53] ⇒  BD = MB [59]\n",
            "041. BN:DN = BM:DQ [58] & BD = MB [59] & BM = BE [47] ⇒  ND:NB = DQ:EB [60]\n",
            "042. C,D,Q are collinear [18] & ∠DBA = ∠DNB [21] & DM ∥ AB [11] & C,M,D are collinear [34] ⇒  ∠BDQ = ∠DNB [61]\n",
            "043. N,B,Q are collinear [17] & C,D,Q are collinear [18] & ∠NBA = ∠NDB [22] & DM ∥ AB [11] & C,M,D are collinear [34] ⇒  ∠BQD = ∠NDB [62]\n",
            "044. ∠BDQ = ∠DNB [61] & ∠BQD = ∠NDB [62] (Similar Triangles)⇒  BD:BQ = BN:BD [63]\n",
            "045. BD:BQ = BN:BD [63] & BM = BE [47] & BD = MB [59] ⇒  EB:BQ = NB:EB [64]\n",
            "046. E,B,D are collinear [13] & N,B,Q are collinear [17] & ∠DBN = ∠DBN [12] ⇒  ∠EBQ = ∠EBN [65]\n",
            "047. EB:BQ = NB:EB [64] & ∠EBQ = ∠EBN [65] (Similar Triangles)⇒  EB:EQ = NB:EN [66]\n",
            "048. ND:NB = DQ:EB [60] & EB:EQ = NB:EN [66] ⇒  EQ:DQ = EN:ND [67]\n",
            "049. EN:ND = EP:DQ [52] & EQ:DQ = EN:ND [67] ⇒  EQ:DQ = EP:DQ [68]\n",
            "050. EQ:DQ = EP:DQ [68] & DQ:MQ = DQ:MQ [19] ⇒  EP = EQ\n",
            "==========================\n",
            "\n"
          ]
        }
      ]
    },
    {
      "cell_type": "code",
      "source": [
        "!python -m alphageometry --alsologtostderr --problems_file=$(pwd)/examples.txt --problem_name=orthocenter --mode=alphageometry \"${DDAR_ARGS[@]}\" \"${SEARCH_ARGS[@]}\" \"${LM_ARGS[@]}\""
      ],
      "metadata": {
        "id": "GVJw9uoZ2Otb",
        "outputId": "f1eb8e72-dbf6-4470-abcf-1eb5e6e3095d",
        "colab": {
          "base_uri": "https://localhost:8080/"
        }
      },
      "execution_count": null,
      "outputs": [
        {
          "output_type": "stream",
          "name": "stdout",
          "text": [
            "/usr/local/lib/python3.10/dist-packages/flax/struct.py:132: FutureWarning: jax.tree_util.register_keypaths is deprecated, and will be removed in a future release. Please use `register_pytree_with_keys()` instead.\n",
            "  jax.tree_util.register_keypaths(data_clz, keypaths)\n",
            "/usr/local/lib/python3.10/dist-packages/flax/struct.py:132: FutureWarning: jax.tree_util.register_keypaths is deprecated, and will be removed in a future release. Please use `register_pytree_with_keys()` instead.\n",
            "  jax.tree_util.register_keypaths(data_clz, keypaths)\n",
            "/usr/local/lib/python3.10/dist-packages/flax/struct.py:132: FutureWarning: jax.tree_util.register_keypaths is deprecated, and will be removed in a future release. Please use `register_pytree_with_keys()` instead.\n",
            "  jax.tree_util.register_keypaths(data_clz, keypaths)\n",
            "2024-06-25 19:28:05.101610: W tensorflow/compiler/tf2tensorrt/utils/py_utils.cc:38] TF-TRT Warning: Could not find TensorRT\n",
            "/usr/local/lib/python3.10/dist-packages/flax/struct.py:132: FutureWarning: jax.tree_util.register_keypaths is deprecated, and will be removed in a future release. Please use `register_pytree_with_keys()` instead.\n",
            "  jax.tree_util.register_keypaths(data_clz, keypaths)\n",
            "/usr/local/lib/python3.10/dist-packages/flax/struct.py:132: FutureWarning: jax.tree_util.register_keypaths is deprecated, and will be removed in a future release. Please use `register_pytree_with_keys()` instead.\n",
            "  jax.tree_util.register_keypaths(data_clz, keypaths)\n",
            "/usr/local/lib/python3.10/dist-packages/flax/struct.py:132: FutureWarning: jax.tree_util.register_keypaths is deprecated, and will be removed in a future release. Please use `register_pytree_with_keys()` instead.\n",
            "  jax.tree_util.register_keypaths(data_clz, keypaths)\n",
            "2024-06-25 19:28:07.384959: W tensorflow/core/common_runtime/gpu/gpu_device.cc:1960] Cannot dlopen some GPU libraries. Please make sure the missing libraries mentioned above are installed properly if you would like to use GPU. Follow the guide at https://www.tensorflow.org/install/gpu for how to download and setup the required libraries for your platform.\n",
            "Skipping registering GPU devices...\n",
            "I0625 19:28:07.388072 136506409840640 inference_utils.py:69] Parsing gin configuration.\n",
            "I0625 19:28:07.388238 136506409840640 inference_utils.py:71] Added Gin search path third_party/py/meliad/transformer/configs\n",
            "I0625 19:28:07.388624 136506409840640 inference_utils.py:74] Loading Gin config file base_htrans.gin\n",
            "I0625 19:28:07.388724 136506409840640 resource_reader.py:50] system_path_file_exists:base_htrans.gin\n",
            "E0625 19:28:07.388933 136506409840640 resource_reader.py:55] Path not found: base_htrans.gin\n",
            "I0625 19:28:07.389004 136506409840640 resource_reader.py:50] system_path_file_exists:third_party/py/meliad/transformer/configs/base_htrans.gin\n",
            "E0625 19:28:07.389410 136506409840640 resource_reader.py:55] Path not found: third_party/py/meliad/transformer/configs/base_htrans.gin\n",
            "Traceback (most recent call last):\n",
            "  File \"/usr/lib/python3.10/runpy.py\", line 196, in _run_module_as_main\n",
            "    return _run_code(code, main_globals, None,\n",
            "  File \"/usr/lib/python3.10/runpy.py\", line 86, in _run_code\n",
            "    exec(code, run_globals)\n",
            "  File \"/content/alphageometry/alphageometry.py\", line 651, in <module>\n",
            "    app.run(main)\n",
            "  File \"/usr/local/lib/python3.10/dist-packages/absl/app.py\", line 308, in run\n",
            "    _run_main(main, args)\n",
            "  File \"/usr/local/lib/python3.10/dist-packages/absl/app.py\", line 254, in _run_main\n",
            "    sys.exit(main(argv))\n",
            "  File \"/content/alphageometry/alphageometry.py\", line 637, in main\n",
            "    model = get_lm(_CKPT_PATH.value, _VOCAB_PATH.value)\n",
            "  File \"/content/alphageometry/alphageometry.py\", line 199, in get_lm\n",
            "    lm.parse_gin_configuration(\n",
            "  File \"/content/alphageometry/meliad_lib/meliad/transformer/inference_utils.py\", line 77, in parse_gin_configuration\n",
            "    gin.parse_config_files_and_bindings(gin_files, gin_params)\n",
            "  File \"/usr/local/lib/python3.10/dist-packages/gin/config.py\", line 2497, in parse_config_files_and_bindings\n",
            "    includes_and_imports = parse_config_file(config_file, skip_unknown)\n",
            "  File \"/usr/local/lib/python3.10/dist-packages/gin/config.py\", line 2457, in parse_config_file\n",
            "    raise IOError(err_str.format(config_file, prefixes))\n",
            "OSError: Unable to open file: base_htrans.gin. Searched config paths: ['', 'third_party/py/meliad/transformer/configs'].\n"
          ]
        }
      ]
    },
    {
      "cell_type": "code",
      "source": [
        "%env SEARCH_ARGS=(--beam_size=2, --search_depth=2)"
      ],
      "metadata": {
        "id": "Y50NsXO03pOR",
        "outputId": "531ebdb8-a866-48b6-aee4-866db2ba0843",
        "colab": {
          "base_uri": "https://localhost:8080/"
        }
      },
      "execution_count": null,
      "outputs": [
        {
          "output_type": "stream",
          "name": "stdout",
          "text": [
            "env: SEARCH_ARGS=(--beam_size=2, --search_depth=2)\n"
          ]
        }
      ]
    },
    {
      "cell_type": "code",
      "source": [
        "!echo $LM_ARGS"
      ],
      "metadata": {
        "id": "AvpcMUSk4IJ1",
        "outputId": "6a6a1381-694e-4ca7-ce09-b841b04a6a23",
        "colab": {
          "base_uri": "https://localhost:8080/"
        }
      },
      "execution_count": null,
      "outputs": [
        {
          "output_type": "stream",
          "name": "stdout",
          "text": [
            "\n"
          ]
        }
      ]
    },
    {
      "cell_type": "code",
      "source": [],
      "metadata": {
        "id": "KhIrsRAN4PKv"
      },
      "execution_count": null,
      "outputs": []
    }
  ]
}